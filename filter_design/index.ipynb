{
 "cells": [
  {
   "cell_type": "markdown",
   "metadata": {},
   "source": [
    "# Design of Digital Filters"
   ]
  },
  {
   "cell_type": "markdown",
   "metadata": {
    "nbsphinx-toctree": {}
   },
   "source": [
    "* [Design of Non-Recursive Filters by the Window Method](window_method.ipynb)\n",
    "* [Design of Non-Recursive Filters by the Frequency Sampling Method](frequency_sampling_method.ipynb)\n",
    "* [Design of Recursive Filters by the Bilinear Transform](bilinear_transform.ipynb)\n",
    "* [Example: Non-Recursive versus Recursive Filter](comparison_non_recursive.ipynb)"
   ]
  }
 ],
 "metadata": {
  "kernelspec": {
   "display_name": "Python 3",
   "language": "python",
   "name": "python3"
  },
  "language_info": {
   "codemirror_mode": {
    "name": "ipython",
    "version": 3
   },
   "file_extension": ".py",
   "mimetype": "text/x-python",
   "name": "python",
   "nbconvert_exporter": "python",
   "pygments_lexer": "ipython3",
   "version": "3.5.1+"
  }
 },
 "nbformat": 4,
 "nbformat_minor": 0
}
