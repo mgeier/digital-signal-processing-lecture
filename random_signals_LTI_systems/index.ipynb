{
 "cells": [
  {
   "cell_type": "markdown",
   "metadata": {},
   "source": [
    "# Random Signals and LTI Systems"
   ]
  },
  {
   "cell_type": "markdown",
   "metadata": {
    "nbsphinx-toctree": {}
   },
   "source": [
    "* [Introduction](introduction.ipynb)\n",
    "* [Linear Mean](linear_mean.ipynb)\n",
    "* [Correlation Functions](correlation_functions.ipynb)\n",
    "* [Example: Measurement of Acoustic Impulse Responses](acoustic_impulse_response_measurement.ipynb)\n",
    "* [Power Spectral Densities](power_spectral_densities.ipynb)\n",
    "* [Wiener Filter](wiener_filter.ipynb)"
   ]
  }
 ],
 "metadata": {
  "kernelspec": {
   "display_name": "Python 3",
   "language": "python",
   "name": "python3"
  },
  "language_info": {
   "codemirror_mode": {
    "name": "ipython",
    "version": 3
   },
   "file_extension": ".py",
   "mimetype": "text/x-python",
   "name": "python",
   "nbconvert_exporter": "python",
   "pygments_lexer": "ipython3",
   "version": "3.5.1+"
  }
 },
 "nbformat": 4,
 "nbformat_minor": 0
}
