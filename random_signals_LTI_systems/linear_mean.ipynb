{
 "cells": [
  {
   "cell_type": "markdown",
   "metadata": {
    "nbsphinx": "hidden"
   },
   "source": [
    "# Random Signals and LTI-Systems\n",
    "\n",
    "*This jupyter/Python notebook is part of a [collection of notebooks](../index.ipynb) in the masters module [Digital Signal Processing](http://www.int.uni-rostock.de/Digitale-Signalverarbeitung.48.0.html), Comunications Engineering, Universität Rostock. Please direct questions and suggestions to <mailto:Sascha.Spors@uni-rostock.de>.*"
   ]
  },
  {
   "cell_type": "markdown",
   "metadata": {},
   "source": [
    "## Linear Mean\n",
    "\n",
    "In the following we aim at finding a relation between the linear mean $\\mu_x[k]$ of the input signal $x[k]$ and the linear mean $\\mu_y[k]$ of the output signal $y[k] = \\mathcal{H} \\{ x[k] \\}$ of an LTI system."
   ]
  },
  {
   "cell_type": "markdown",
   "metadata": {},
   "source": [
    "### Non-Stationary Process\n",
    "\n",
    "Let's first impose no restrictions in terms of stationarity to the input signal. The [linear mean](../random_signals/ensemble_averages.ipynb#Linear-mean) of the output signal is then given as\n",
    "\n",
    "$$ \\mu_y[k] = E\\{ y[k] \\} = E\\{ x[k] * h[k] \\} $$\n",
    "\n",
    "where $h[k]$ denotes the impulse response of the system. Since the convolution and the ensemble average are linear operations, and $h[k]$ is a deterministic signal this can be rewritten as\n",
    "\n",
    "$$ \\mu_y[k] = \\mu_x[k] * h[k] $$\n",
    "\n",
    "Hence, the linear mean of the output signal $\\mu_y[k]$ is given as the convolution of the linear mean of the input signal $\\mu_x[k]$ with the impulse response $h[k]$ of the system."
   ]
  },
  {
   "cell_type": "markdown",
   "metadata": {},
   "source": [
    "#### Example"
   ]
  },
  {
   "cell_type": "code",
   "execution_count": 1,
   "metadata": {
    "collapsed": false
   },
   "outputs": [
    {
     "data": {
      "image/png": "[encoded data removed]",
      "text/plain": [
       "<matplotlib.figure.Figure at 0x108a475f8>"
      ]
     },
     "metadata": {},
     "output_type": "display_data"
    },
    {
     "data": {
      "image/png": "[encoded data removed]",
      "text/plain": [
       "<matplotlib.figure.Figure at 0x10a5d1c18>"
      ]
     },
     "metadata": {},
     "output_type": "display_data"
    }
   ],
   "source": [
    "%matplotlib inline\n",
    "import numpy as np\n",
    "import matplotlib.pyplot as plt\n",
    "\n",
    "L = 32  # number of random samples\n",
    "N = 10000  # number of sample functions\n",
    "\n",
    "# generate input signal (white Gaussian noise)\n",
    "x = np.random.normal(size=(N, L))\n",
    "x[:, L//2] += 1 \n",
    "# generate output signal\n",
    "h = 2*np.fft.irfft([1,1,1,0,0,0])\n",
    "y = np.asarray([np.convolve(x[n,:], h, mode='full') for n in range(N)])\n",
    "\n",
    "# compute and plot results\n",
    "def compute_plot_results(x):\n",
    "\n",
    "    # estimate linear mean by ensemble average\n",
    "    mu = 1/N * np.sum(x, 0)\n",
    "    # plot linear mean\n",
    "    plt.stem(mu)\n",
    "    plt.xlabel(r'$k$')\n",
    "    plt.ylabel(r'$\\hat{\\mu}[k]$')\n",
    "    plt.axis([0, x.shape[1], -1.2, 1.2])\n",
    "\n",
    "plt.figure(figsize = (10, 3))\n",
    "plt.title(r'Estimate of linear mean $\\hat{\\mu}_x[k]$ of input signal')\n",
    "compute_plot_results(x)\n",
    "\n",
    "plt.figure(figsize = (10, 3))\n",
    "plt.title(r'Estimate of linear mean $\\hat{\\mu}_y[k]$ of output signal')\n",
    "compute_plot_results(y)"
   ]
  },
  {
   "cell_type": "markdown",
   "metadata": {},
   "source": [
    "**Exercise**\n",
    "\n",
    "* Can you estimate the impulse response $h[k]$ of the system from above plots of $\\hat{\\mu}_x[k]$ and $\\hat{\\mu}_y[k]$?\n",
    "* You can check your results by plotting the impulse response $h[k]$, for instance with the command `plt.stem(h)`."
   ]
  },
  {
   "cell_type": "markdown",
   "metadata": {},
   "source": [
    "### Stationary Process\n",
    "\n",
    "For a (weakly) stationary process, the linear mean of the input signal $\\mu_x[k] = \\mu_x$ does not depend on the time index $k$. For a (weakly) stationary input signal, also the output signal of the system is (weakly) stationary. Using the result for the non-stationary case above yields\n",
    "\n",
    "$$ \\mu_y = \\mu_x * h[k] = \\mu_x \\cdot H(\\mathrm{e}^{\\,\\mathrm{j}\\,\\Omega}) \\big\\vert_{\\Omega = 0} $$\n",
    "\n",
    "where $H(\\mathrm{e}^{\\,\\mathrm{j}\\,\\Omega}) = \\mathcal{F}_* \\{ h[k] \\}$ denotes the discrete time Fourier transformation (DTFT) of the impulse response. Hence, the linear mean of a (weakly) stationary input signal is weighted by the transmission characteristics for the constant (i.e. DC, $\\Omega = 0$) component of the LTI system. This implies that the output signal to a zero-mean $\\mu_x = 0$ input signal is also zero-mean $\\mu_y = 0$."
   ]
  },
  {
   "cell_type": "markdown",
   "metadata": {
    "nbsphinx": "hidden"
   },
   "source": [
    "**Copyright**\n",
    "\n",
    "<p xmlns:dct=\"http://purl.org/dc/terms/\">\n",
    "  <a rel=\"license\"\n",
    "     href=\"http://creativecommons.org/publicdomain/zero/1.0/\">\n",
    "    <img src=\"http://i.creativecommons.org/p/zero/1.0/88x31.png\" style=\"border-style: none;\" alt=\"CC0\" />\n",
    "  </a>\n",
    "  <br />\n",
    "  To the extent possible under law,\n",
    "  <span rel=\"dct:publisher\" resource=\"[_:publisher]\">the person who associated CC0</span>\n",
    "  with this work has waived all copyright and related or neighboring\n",
    "  rights to this work.\n",
    "</p>"
   ]
  }
 ],
 "metadata": {
  "kernelspec": {
   "display_name": "Python 3",
   "language": "python",
   "name": "python3"
  },
  "language_info": {
   "codemirror_mode": {
    "name": "ipython",
    "version": 3
   },
   "file_extension": ".py",
   "mimetype": "text/x-python",
   "name": "python",
   "nbconvert_exporter": "python",
   "pygments_lexer": "ipython3",
   "version": "3.5.0"
  }
 },
 "nbformat": 4,
 "nbformat_minor": 0
}
