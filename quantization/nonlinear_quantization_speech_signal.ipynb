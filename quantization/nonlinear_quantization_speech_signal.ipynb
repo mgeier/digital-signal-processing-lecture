{
 "cells": [
  {
   "cell_type": "markdown",
   "metadata": {
    "nbsphinx": "hidden"
   },
   "source": [
    "# Quantization of Signals\n",
    "\n",
    "*This jupyter/Python notebook is part of a [collection of notebooks](../index.ipynb) in the masters module [Digital Signal Processing](http://www.int.uni-rostock.de/Digitale-Signalverarbeitung.48.0.html), Comunications Engineering, Universität Rostock. Please direct questions and suggestions to <mailto:Sascha.Spors@uni-rostock.de>.*"
   ]
  },
  {
   "cell_type": "markdown",
   "metadata": {},
   "source": [
    "## Non-Linear Requantization of a Speech Signal\n",
    "\n",
    "Speech signals have a [non-uniform amplitude distribution](../random_signals/important_distributions.ipynb#Example) which is often modeled by the Laplace distribution. Linear uniform quantization is not optimal for speech signals, since small signal amplitudes are more likely than higher ones. This motivates a non-linear quantization scheme, where the signal is companded before linear quantization and expanded afterwards. \n",
    "\n",
    "The following example illustrates the [A-law companding](https://en.wikipedia.org/wiki/A-law_algorithm) used in European telephone networks. The signal was originally recorded with a wordlength of $w=16$ bits using linear uniform quantization. First the A-law compansion is applied, then quantization by a linear uniform quantizer with a wordlength of $w=8$ bits. For a sampling rate of $f_s = 8$ kHz this results in a bit-rate of 64 kbits/s used in the backbone of many telephone networks."
   ]
  },
  {
   "cell_type": "code",
   "execution_count": 1,
   "metadata": {
    "collapsed": false
   },
   "outputs": [],
   "source": [
    "%matplotlib inline\n",
    "import numpy as np\n",
    "import matplotlib.pyplot as plt\n",
    "import soundfile as sf\n",
    "\n",
    "\n",
    "def A_law_compander(x):\n",
    "    A = 87.6\n",
    "    y = np.zeros_like(x)\n",
    "    idx = np.where(np.abs(x) < 1/A)\n",
    "    y[idx] = A*np.abs(x[idx]) / (1 + np.log(A))\n",
    "    idx = np.where(np.abs(x) >= 1/A)\n",
    "    y[idx] = (1 + np.log(A*np.abs(x[idx]))) / (1 + np.log(A))\n",
    "    \n",
    "    return np.sign(x)*y\n",
    "\n",
    "def A_law_expander(y):\n",
    "    A = 87.6\n",
    "    x = np.zeros_like(y)\n",
    "    idx = np.where(np.abs(y) < 1/(1+np.log(A)))\n",
    "    x[idx] = np.abs(y[idx])*(1+np.log(A)) / A\n",
    "    idx = np.where(np.abs(y) >= 1/(1+np.log(A)))\n",
    "    x[idx] = np.exp(np.abs(y[idx])*(1+np.log(A))-1)/A\n",
    "    \n",
    "    return np.sign(y)*x\n",
    "\n",
    "def uniform_midtread_quantizer(x, w):\n",
    "    # quantization step\n",
    "    Q = 1/(2**(w-1))\n",
    "    # limiter\n",
    "    x = np.copy(x)\n",
    "    idx = np.where(x <= -1)\n",
    "    x[idx] = -1\n",
    "    idx = np.where(x > 1 - Q)\n",
    "    x[idx] = 1 - Q\n",
    "    # linear uniform quantization\n",
    "    xQ = Q * np.floor(x/Q + 1/2)\n",
    "    \n",
    "    return xQ\n",
    "\n",
    "def evaluate_requantization(x, xQ):\n",
    "    e = xQ - x\n",
    "    # SNR\n",
    "    SNR = 10*np.log10(np.var(x)/np.var(e))\n",
    "    print('SNR: %f dB'%SNR)\n",
    "    # normalize error\n",
    "    e = .2 * e / np.max(np.abs(e))\n",
    "    return e"
   ]
  },
  {
   "cell_type": "markdown",
   "metadata": {},
   "source": [
    "### Quantization Characteristic\n",
    "\n",
    "Lets first take a look at the non-linear characteristic of the A-law requantizer. The left plot shows the characteristic of the A-law companding and linear-quantization. The right plot shows the overall characteristic for companding, linear quantization and expansion. "
   ]
  },
  {
   "cell_type": "code",
   "execution_count": 2,
   "metadata": {
    "collapsed": false
   },
   "outputs": [
    {
     "data": {
      "image/png": "[encoded data removed]",
      "text/plain": [
       "<matplotlib.figure.Figure at 0x107a0f400>"
      ]
     },
     "metadata": {},
     "output_type": "display_data"
    }
   ],
   "source": [
    "x = np.linspace(-1, 1, 2**16)\n",
    "y = A_law_compander(x)\n",
    "yQ4 = uniform_midtread_quantizer(y, 4)\n",
    "yQ8 = uniform_midtread_quantizer(y, 8)\n",
    "xQ4 = A_law_expander(yQ4)\n",
    "xQ8 = A_law_expander(yQ8)\n",
    "\n",
    "plt.figure(figsize=(10, 4))\n",
    "\n",
    "plt.subplot(121)\n",
    "plt.plot(x, yQ4, label=r'$w=4$ bit')\n",
    "plt.plot(x, yQ8, label=r'$w=8$ bit')\n",
    "plt.title('Compansion and linear quantization')\n",
    "plt.xlabel(r'$x$')\n",
    "plt.ylabel(r'$x_Q$')\n",
    "plt.legend(loc=2)\n",
    "plt.axis([-1.1, 1.1, -1.1, 1.1])\n",
    "plt.grid()\n",
    "\n",
    "plt.subplot(122)\n",
    "plt.plot(x, xQ4, label=r'$w=4$ bit')\n",
    "plt.plot(x, xQ8, label=r'$w=8$ bit')\n",
    "plt.title('Overall')\n",
    "plt.xlabel(r'$x$')\n",
    "plt.ylabel(r'$x_Q$')\n",
    "plt.legend(loc=2)\n",
    "plt.axis([-1.1, 1.1, -1.1, 1.1])\n",
    "plt.grid()"
   ]
  },
  {
   "cell_type": "markdown",
   "metadata": {},
   "source": [
    "### Signal-to-Noise Ratio\n",
    "\n",
    "Now the signal-to-noise ratio (SNR) is computed for a Laplace distributed signal for various probabilities $\\Pr \\{ |x[k]| > x_\\text{max} \\}$ that clipping occurs. The results show that the non-linear quantization scheme provides a constant SNR over a wide range of signal amplitudes. The SNR is additional higher as for [linear quantization](../quantization/linear_uniform_quantization_error.ipynb#Example) of a Laplace distributed signal. "
   ]
  },
  {
   "cell_type": "code",
   "execution_count": 3,
   "metadata": {
    "collapsed": false
   },
   "outputs": [
    {
     "data": {
      "image/png": "[encoded data removed]",
      "text/plain": [
       "<matplotlib.figure.Figure at 0x10a002828>"
      ]
     },
     "metadata": {},
     "output_type": "display_data"
    }
   ],
   "source": [
    "w = 8  # wordlength of the quantized signal\n",
    "Pc = np.logspace(-20, np.log10(.5), num=500)  # probabilities for clipping\n",
    "N = int(1e6)  # number of samples\n",
    "\n",
    "\n",
    "def compute_SNR(Pc):\n",
    "    # compute input signal\n",
    "    sigma_x = - np.sqrt(2) / np.log(Pc)\n",
    "    x = np.random.laplace(size=N, scale=sigma_x/np.sqrt(2) )\n",
    "    # quantize signal\n",
    "    y = A_law_compander(x)\n",
    "    yQ = uniform_midtread_quantizer(y, 8)\n",
    "    xQ = A_law_expander(yQ)\n",
    "    e = xQ - x\n",
    "    # compute SNR\n",
    "    SNR = 10*np.log10((np.var(x)/np.var(e)))\n",
    "    \n",
    "    return SNR\n",
    "\n",
    "\n",
    "# quantization step\n",
    "Q = 1/(2**(w-1))\n",
    "# compute SNR for given probabilities\n",
    "SNR = [compute_SNR(P) for P in Pc]\n",
    "\n",
    "# plot results\n",
    "plt.figure(figsize=(8,4))\n",
    "plt.semilogx(Pc, SNR)\n",
    "plt.xlabel('Probability for clipping')\n",
    "plt.ylabel('SNR in dB')\n",
    "plt.grid()"
   ]
  },
  {
   "cell_type": "markdown",
   "metadata": {},
   "source": [
    "### Requantization of a Speech Sample\n",
    "\n",
    "Finally we requantize a speech sample with a linear and the A-law quantization scheme. Listen to the samples!"
   ]
  },
  {
   "cell_type": "code",
   "execution_count": 5,
   "metadata": {
    "collapsed": false
   },
   "outputs": [
    {
     "name": "stdout",
     "output_type": "stream",
     "text": [
      "SNR: 35.749340 dB\n",
      "SNR: 38.177564 dB\n"
     ]
    }
   ],
   "source": [
    "# load speech sample\n",
    "x, fs = sf.read('../data/speech_8k.wav')\n",
    "x = x/np.max(np.abs(x))\n",
    "\n",
    "# linear quantization\n",
    "xQ = uniform_midtread_quantizer(x, 8)\n",
    "e = evaluate_requantization(x, xQ)\n",
    "sf.write('speech_8k_8bit.wav', xQ, fs)\n",
    "sf.write('speech_8k_8bit_error.wav', e, fs)\n",
    "\n",
    "# A-law quantization\n",
    "y = A_law_compander(x)\n",
    "yQ = uniform_midtread_quantizer(y, 8)\n",
    "xQ = A_law_expander(yQ)\n",
    "e = evaluate_requantization(x, xQ)\n",
    "sf.write('speech_Alaw_8k_8bit.wav', xQ, fs)\n",
    "sf.write('speech_Alaw_8k_8bit_error.wav', e, fs)"
   ]
  },
  {
   "cell_type": "markdown",
   "metadata": {},
   "source": [
    "**Original Signal**\n",
    "<audio src=\"../data/speech_8k.wav\" controls>Your browser does not support the audio element.</audio>\n",
    "[../data/speech_8k.wav](../data/speech.wav)"
   ]
  },
  {
   "cell_type": "markdown",
   "metadata": {},
   "source": [
    "**Linear Requantization to $w=8$ bit** \n",
    "\n",
    "Signal\n",
    "<audio src=\"speech_8k_8bit.wav\" controls>Your browser does not support the audio element.</audio>\n",
    "[speech_8k_8bit.wav](speech_8k_8bit.wav)\n",
    "\n",
    "Error\n",
    "<audio src=\"speech_8k_8bit_error.wav\" controls>Your browser does not support the audio element.</audio>\n",
    "[speech_8k_8bit_error.wav](speech_8k_8bit_error.wav)"
   ]
  },
  {
   "cell_type": "markdown",
   "metadata": {},
   "source": [
    "**A-law Requantization to $w=8$ bit**\n",
    "\n",
    "Signal\n",
    "<audio src=\"speech_Alaw_8k_8bit.wav\" controls>Your browser does not support the audio element.</audio>\n",
    "[speech_Alaw_8k_8bit.wav](speech_Alaw_8k_8bit.wav)\n",
    "\n",
    "Error\n",
    "<audio src=\"speech_Alaw_8k_8bit_error.wav\" controls>Your browser does not support the audio element.</audio>\n",
    "[speech_Alaw_8k_8bit_error.wav](speech_Alaw_8k_8bit_error.wav)"
   ]
  },
  {
   "cell_type": "markdown",
   "metadata": {
    "nbsphinx": "hidden"
   },
   "source": [
    "**Copyright**\n",
    "\n",
    "<p xmlns:dct=\"http://purl.org/dc/terms/\">\n",
    "  <a rel=\"license\"\n",
    "     href=\"http://creativecommons.org/publicdomain/zero/1.0/\">\n",
    "    <img src=\"http://i.creativecommons.org/p/zero/1.0/88x31.png\" style=\"border-style: none;\" alt=\"CC0\" />\n",
    "  </a>\n",
    "  <br />\n",
    "  To the extent possible under law,\n",
    "  <span rel=\"dct:publisher\" resource=\"[_:publisher]\">the person who associated CC0</span>\n",
    "  with this work has waived all copyright and related or neighboring\n",
    "  rights to this work.\n",
    "</p>"
   ]
  }
 ],
 "metadata": {
  "kernelspec": {
   "display_name": "Python 3",
   "language": "python",
   "name": "python3"
  },
  "language_info": {
   "codemirror_mode": {
    "name": "ipython",
    "version": 3
   },
   "file_extension": ".py",
   "mimetype": "text/x-python",
   "name": "python",
   "nbconvert_exporter": "python",
   "pygments_lexer": "ipython3",
   "version": "3.5.0"
  }
 },
 "nbformat": 4,
 "nbformat_minor": 0
}
