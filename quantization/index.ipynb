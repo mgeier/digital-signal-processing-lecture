{
 "cells": [
  {
   "cell_type": "markdown",
   "metadata": {},
   "source": [
    "# Quantization"
   ]
  },
  {
   "cell_type": "markdown",
   "metadata": {
    "nbsphinx-toctree": {}
   },
   "source": [
    "* [Introduction](introduction.ipynb)\n",
    "* [Characteristic of Linear Uniform Quantization](linear_uniform_characteristic.ipynb)\n",
    "* [Quantization Error of Linear Uniform Quantization](linear_uniform_quantization_error.ipynb)\n",
    "* [Example: Requantization of a Speech Signal](requantization_speech_signal.ipynb)\n",
    "* [Noise Shaping](noise_shaping.ipynb)\n",
    "* [Oversampling](oversampling.ipynb)\n",
    "* [Example: Non-Linear Quantization of a Speech Signal](nonlinear_quantization_speech_signal.ipynb)"
   ]
  }
 ],
 "metadata": {
  "kernelspec": {
   "display_name": "Python 3",
   "language": "python",
   "name": "python3"
  },
  "language_info": {
   "codemirror_mode": {
    "name": "ipython",
    "version": 3
   },
   "file_extension": ".py",
   "mimetype": "text/x-python",
   "name": "python",
   "nbconvert_exporter": "python",
   "pygments_lexer": "ipython3",
   "version": "3.5.1+"
  }
 },
 "nbformat": 4,
 "nbformat_minor": 0
}
