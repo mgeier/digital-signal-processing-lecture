{
 "cells": [
  {
   "cell_type": "markdown",
   "metadata": {
    "nbsphinx": "hidden"
   },
   "source": [
    "# Quantization of Signals\n",
    "\n",
    "*This jupyter/Python notebook is part of a [collection of notebooks](../index.ipynb) in the masters module [Digital Signal Processing](http://www.int.uni-rostock.de/Digitale-Signalverarbeitung.48.0.html), Comunications Engineering, Universität Rostock. Please direct questions and suggestions to <mailto:Sascha.Spors@uni-rostock.de>.*"
   ]
  },
  {
   "cell_type": "markdown",
   "metadata": {},
   "source": [
    "## Oversampling\n",
    "\n",
    "[Oversampling](https://en.wikipedia.org/wiki/Oversampling) is a technique which is applied in [analog-to-digital converters](https://en.wikipedia.org/wiki/Analog-to-digital_converter) to lower the average power of the quantization error. It requires a joint consideration of sampling and quantization."
   ]
  },
  {
   "cell_type": "markdown",
   "metadata": {},
   "source": [
    "### Ideal Analog-to-Digital Conversion\n",
    "\n",
    "Let's consider the ideal sampling of a signal followed by its quantization, as given by the following block diagram\n",
    "\n",
    "![Ideal analog to digital conversion of a signal](ideal_ADC.png)\n",
    "\n",
    "Ideal sampling is modeled by multiplying the continuous signal $x(t)$ with a series of equidistant Dirac functions, resulting in the discrete signal $x[k] = x(k T)$ where $T$ denotes the sampling interval. The discrete signal $x[k]$ is then quantized. The output of the ideal analog-to-digital converter is the quantized discrete signal $x_\\text{Q}[k]$."
   ]
  },
  {
   "cell_type": "markdown",
   "metadata": {},
   "source": [
    "### Nyquist Sampling\n",
    "\n",
    "Sampling of the continuous signal $x(t)$ leads to repetitions of the spectrum $X(j \\omega) = \\mathcal{F} \\{ x(t) \\}$ at multiples of $\\omega_\\text{S} = \\frac{2 \\pi}{T}$. We limit ourselves to a continuous real-valued $x(t) \\in \\mathbb{R}$, band-limted signal $| X(j \\omega) | = 0$ for $|\\omega| > \\omega_\\text{C}$ where $\\omega_\\text{C}$ denotes its cut-off frequency. The spectral repetitions due to sampling do not overlap if the [sampling theorem](https://en.wikipedia.org/wiki/Nyquist%E2%80%93Shannon_sampling_theorem) $\\omega_\\text{S} \\geq  2 \\cdot \\omega_\\text{C}$ is fulfilled. In the case of Nyquist (critical) sampling, the sampling frequency is chosen as $\\omega_\\text{S} =  2 \\cdot \\omega_\\text{C}$."
   ]
  },
  {
   "cell_type": "markdown",
   "metadata": {},
   "source": [
    "### Oversampling\n",
    "\n",
    "The basic idea of oversampling is to sample the input signal at frequencies which are significantly higher than the Nyquist criterion dictates. After quantization, the signal is low-pass filtered by a discrete filter $H_\\text{LP}(\\mathrm{e}^{\\,\\mathrm{j}\\,\\Omega})$ and resampled back to the Nyquist rate. In order to avoid aliasing due to the resampling this filter has to be chosen as an ideal low-pass\n",
    "\n",
    "$$ H_\\text{LP}(\\mathrm{e}^{\\,\\mathrm{j}\\,\\Omega}) = \\text{rect} \\left( \\frac{\\Omega}{2 \\, \\Omega_\\text{C}} \\right) $$\n",
    "\n",
    "where $\\Omega_\\text{C} = \\omega_\\text{C} \\cdot T$. For an oversampling of factor $L \\in \\mathbb{Z}$ we have $\\omega_\\text{S} = L \\cdot 2 \\omega_\\text{C}$. For this case, the resampling can be realized by keeping only every $L$-th sample which is known as decimation. The following block diagram illustrates the building blocks of oversampled digital-to-analog conversion, $\\downarrow L$ denotes decimation by a factor of $L$\n",
    "\n",
    "![Oversampling ideal analog to digital converter](oversampling.png)\n",
    "\n",
    "In order the conclude on the benefits of oversampling we have to derive the average power of the overall quantization error. According to our [model of the quantization error](linear_uniform_quantization_error.ipynb#Model-for-the-Quantization-Error), the quantization error $e[k]$ can be modeled as uniformly distributed white noise. Its power spectral density (PSD) is given as\n",
    "\n",
    "$$ \\Phi_{ee}(\\mathrm{e}^{\\,\\mathrm{j}\\,\\Omega}) = \\frac{Q^2}{12} $$\n",
    "\n",
    "where $Q$ denotes the quantization step. Before the discrete low-pass filter $H_\\text{LP}(\\mathrm{e}^{\\,\\mathrm{j}\\,\\Omega})$, the power of the quantization error is uniformly distributed over the entire frequency range $-\\pi < \\Omega \\leq \\pi$. However, after the ideal low-pass filter the frequency range is limited to $- \\frac{\\pi}{L} < \\Omega \\leq \\frac{\\pi}{L}$. The average power of the quantization error is then given as\n",
    "\n",
    "$$ \\sigma_{e, \\text{LP}}^2 = \\frac{1}{2 \\pi} \\int\\limits_{- \\frac{\\pi}{L}}^{\\frac{\\pi}{L}} \\Phi_{ee}(\\mathrm{e}^{\\,\\mathrm{j}\\,\\Omega})  \\; \\mathrm{d}\\Omega = \\frac{1}{L} \\cdot \\frac{Q^2}{12}$$\n",
    "\n",
    "The average power $\\sigma_x^2$ of the sampled signal $x[k]$ is not affected, since the cutoff frequency of the low-pass filter has been chosen as the upper frequency limit $\\omega_\\text{C}$ of the input signal $x(t)$. \n",
    "\n",
    "In order to calculate the SNR of the oversampled analog-to-digital converter we assume that the input signal is drawn from a uniformly distributed zero-mean random process with $|x[k]| < x_\\text{max}$. With the results from our discussion of [linear uniform quantization](linear_uniform_quantization_error.ipynb#Uniformly-Distributed-Signal) and $\\sigma_{e, \\text{LP}}^2$ from above we get\n",
    "\n",
    "$$ SNR = 10 \\cdot \\log_{10} \\left( 2^{2 w} \\right) + 10 \\cdot \\log_{10} \\left( L \\right) \\approx 6.02 \\, w + 10 \\cdot \\log_{10} \\left( L \\right) \\quad \\text{in dB} $$\n",
    "\n",
    "where $w$ denotes the number of bits used for a binary representation of the quantization index. Hence, oversampling by a factor of $L$ brings a plus of $10 \\cdot \\log_{10} \\left( L \\right)$ dB in terms of SNR. For instance, an oversampling by a factor of $L = 4$ results in a SNR which is approximately 6 dB higher. For equal SNR the quantization step $Q$ can be chosen larger. In terms the of wordlength of a quantizer this accounts to a reduction by one bit. Consequently, there is a trade-off between accuracy of the quantizer and its sampling frequency."
   ]
  },
  {
   "cell_type": "markdown",
   "metadata": {},
   "source": [
    "### Example\n",
    "\n",
    "The following numerical simulation illustrates the benefit in terms of SNR for an oversampled linear uniform quantizer with $w = 16$ for the quantization of the harmonic signal $x[k] = \\cos[\\Omega_0 k]$."
   ]
  },
  {
   "cell_type": "code",
   "execution_count": 1,
   "metadata": {
    "collapsed": false
   },
   "outputs": [
    {
     "data": {
      "image/png": "[encoded data removed]",
      "text/plain": [
       "<matplotlib.figure.Figure at 0x11111d6a0>"
      ]
     },
     "metadata": {},
     "output_type": "display_data"
    }
   ],
   "source": [
    "%matplotlib inline\n",
    "import numpy as np\n",
    "import matplotlib.pyplot as plt\n",
    "import scipy.signal as sig\n",
    "\n",
    "w = 16  # wordlength of the quantized signal\n",
    "L = 2**np.arange(1,10)  # oversampling factors\n",
    "\n",
    "N = 8192  # length of signals\n",
    "Om0 = 100*2*np.pi/N  # frequency of harmonic signal\n",
    "Q = 1/(2**(w-1))  # quantization step\n",
    "\n",
    "\n",
    "def uniform_midtread_quantizer(x, Q):\n",
    "    # limiter\n",
    "    x = np.copy(x)\n",
    "    idx = np.where(x <= -1)\n",
    "    x[idx] = -1\n",
    "    idx = np.where(x > 1 - Q)\n",
    "    x[idx] = 1 - Q\n",
    "    # linear uniform quantization\n",
    "    xQ = Q * np.floor(x/Q + 1/2)\n",
    "    \n",
    "    return xQ\n",
    "\n",
    "def SNR_oversampled_ADC(L):\n",
    "    x = (1-Q)*np.cos(Om0*np.arange(N))\n",
    "    xu = (1-Q)*np.cos(Om0*np.arange(N*L)/L)\n",
    "    # quantize signal\n",
    "    xQu = uniform_midtread_quantizer(xu, Q)\n",
    "    # low-pass filtering and decimation\n",
    "    xQ = sig.resample(xQu, N)\n",
    "    # estimate SNR\n",
    "    e = xQ - x\n",
    "    \n",
    "    return 10*np.log10((np.var(x)/np.var(e)))\n",
    "\n",
    "\n",
    "# compute SNR for oversampled ADC\n",
    "SNR = [SNR_oversampled_ADC(l) for l in L]\n",
    "\n",
    "# plot result\n",
    "plt.figure(figsize=(10, 4))\n",
    "plt.semilogx(L, SNR, label='with oversampling')\n",
    "plt.plot(L, (6.02*w+1.76)*np.ones(L.shape), label='without oversampling' )\n",
    "plt.xlabel(r'oversampling factor $L$')\n",
    "plt.ylabel(r'SNR in dB')\n",
    "plt.legend(loc='upper left')\n",
    "plt.grid()"
   ]
  },
  {
   "cell_type": "markdown",
   "metadata": {},
   "source": [
    "**Exercise**\n",
    "\n",
    "* What SNR can be achieved for an oversampling factor of $L=16$?\n",
    "* By how many bits could the word length $w$ be reduced in order to gain the same SNR as without oversampling?"
   ]
  },
  {
   "cell_type": "markdown",
   "metadata": {},
   "source": [
    "### Anti-Aliasing Filter\n",
    "\n",
    "Besides an increased SNR, oversampling has also another benefit. In order to ensure that the input signal $x(t)$ is band-limited before sampling, a low-pass filter $H_\\text{LP}(\\mathrm{j}\\,\\omega)$ is applied in typical analog-to-digital converters. This is illustrated in the following\n",
    "\n",
    "![Oversampling ideal analog to digital converter with anti-aliasing filter](oversampling_anti_aliasing.png)\n",
    "\n",
    "The filter $H_\\text{LP}(\\mathrm{j}\\,\\omega)$ is also known as [anti-aliasing filter](https://en.wikipedia.org/wiki/Anti-aliasing_filter). The ideal low-pass filter is given as $H_\\text{LP}(\\mathrm{j}\\,\\omega) = \\text{rect}\\left( \\frac{\\omega}{\\omega_\\text{S}}  \\right)$. The ideal $H_\\text{LP}(\\mathrm{j}\\,\\omega)$ can only be approximated in the analog domain. Since the sampling rate is higher than the Nyquist rate, there is no need for a steep slope of the filter in order to avoid aliasing. However, the pass-band of the filter within $|\\omega| < |\\omega_\\text{C}|$ has to be flat. \n",
    "\n",
    "Before decimation, the discrete filter $H_\\text{LP}(\\mathrm{e}^{\\,\\mathrm{j}\\,\\Omega})$ has to remove the spectral contributions that may lead to aliasing. However, a discrete filter $H_\\text{LP}(\\mathrm{e}^{\\,\\mathrm{j}\\,\\Omega})$ with steep slope can be realized much easier than in the analog domain."
   ]
  },
  {
   "cell_type": "markdown",
   "metadata": {
    "nbsphinx": "hidden"
   },
   "source": [
    "**Copyright**\n",
    "\n",
    "<p xmlns:dct=\"http://purl.org/dc/terms/\">\n",
    "  <a rel=\"license\"\n",
    "     href=\"http://creativecommons.org/publicdomain/zero/1.0/\">\n",
    "    <img src=\"http://i.creativecommons.org/p/zero/1.0/88x31.png\" style=\"border-style: none;\" alt=\"CC0\" />\n",
    "  </a>\n",
    "  <br />\n",
    "  To the extent possible under law,\n",
    "  <span rel=\"dct:publisher\" resource=\"[_:publisher]\">the person who associated CC0</span>\n",
    "  with this work has waived all copyright and related or neighboring\n",
    "  rights to this work.\n",
    "</p>"
   ]
  }
 ],
 "metadata": {
  "kernelspec": {
   "display_name": "Python 3",
   "language": "python",
   "name": "python3"
  },
  "language_info": {
   "codemirror_mode": {
    "name": "ipython",
    "version": 3
   },
   "file_extension": ".py",
   "mimetype": "text/x-python",
   "name": "python",
   "nbconvert_exporter": "python",
   "pygments_lexer": "ipython3",
   "version": "3.5.0"
  }
 },
 "nbformat": 4,
 "nbformat_minor": 0
}
