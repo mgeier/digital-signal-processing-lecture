{
 "cells": [
  {
   "cell_type": "markdown",
   "metadata": {
    "nbsphinx": "hidden"
   },
   "source": [
    "# Random Signals\n",
    "\n",
    "*This jupyter/Python notebook is part of a [collection of notebooks](../index.ipynb) in the masters module [Digital Signal Processing](http://www.int.uni-rostock.de/Digitale-Signalverarbeitung.48.0.html), Comunications Engineering, Universität Rostock. Please direct questions and suggestions to <mailto:Sascha.Spors@uni-rostock.de>.*"
   ]
  },
  {
   "cell_type": "markdown",
   "metadata": {},
   "source": [
    "## Ensemble Averages"
   ]
  },
  {
   "cell_type": "markdown",
   "metadata": {},
   "source": [
    "Ensemble averages characterize the average properties of a sample function across the population of all possible sample functions of the ensemble. We distinguish between first and higher-order ensemble averages. The former considers the properties of the sample functions for one particular time instant $k$, while the latter take different signals at different time instants into account."
   ]
  },
  {
   "cell_type": "markdown",
   "metadata": {},
   "source": [
    "### First Order Ensemble Averages"
   ]
  },
  {
   "cell_type": "markdown",
   "metadata": {},
   "source": [
    "#### Definition"
   ]
  },
  {
   "cell_type": "markdown",
   "metadata": {},
   "source": [
    "The first order ensemble average of a continuous-amplitude real-valued random signal $x[k]$ is defined as\n",
    "\n",
    "$$ E\\{ f(x[k]) \\} = \\lim_{N \\to \\infty} \\frac{1}{N} \\sum_{n=0}^{N-1} f(x_n[k]) $$\n",
    "\n",
    "where $E\\{ \\cdot \\}$ denotes the expectation operator, $x_n[k]$ the $n$-th sample function and $f(\\cdot)$ an arbitrary mapping function. It is evident from the definition that the ensemble average can only be given exactly for random processes where the internal structure is known. For practical random processes, like e.g. speech, the ensemble average can only be approximated by a finite but sufficient large number $N$ of sample functions.\n",
    "\n",
    "The ensemble average can also be given in terms of the univariate probability density function (PDF)\n",
    "\n",
    "$$ E\\{ f(x[k]) \\} = \\int\\limits_{-\\infty}^{\\infty} f(\\theta) \\, p_x(\\theta, k) \\, \\mathrm{d}\\theta $$"
   ]
  },
  {
   "cell_type": "markdown",
   "metadata": {},
   "source": [
    "#### Properties"
   ]
  },
  {
   "cell_type": "markdown",
   "metadata": {},
   "source": [
    "1. The ensemble averages for two different time instants $k_1$ and $k_2$ differ in general\n",
    "\n",
    "    $$E\\{ f(x[k_1]) \\} \\neq E\\{ f(x[k_2]) \\}$$\n",
    "    \n",
    "2. For a linear mapping $f(x[k]) = x[k]$, the ensemble average is a linear operation\n",
    "    \n",
    "    $$E\\{ A x[k] + B y[k] \\} = A \\cdot E\\{ x[k] \\} + B \\cdot E\\{ y[k] \\}$$\n",
    "\n",
    "3. For a deterministic signal $x_n[k] = s[k]$ $\\forall n$ the ensemble average is \n",
    "\n",
    "    $$E\\{ f(s[k]) \\} = f(s[k])$$"
   ]
  },
  {
   "cell_type": "markdown",
   "metadata": {},
   "source": [
    "#### Linear mean"
   ]
  },
  {
   "cell_type": "markdown",
   "metadata": {},
   "source": [
    "The choice of the mapping function $f(\\cdot)$ determines the property of the random process which is characterized by the ensemble average. The linear [mean](https://en.wikipedia.org/wiki/Mean), which is given for $f(x[k]) = x[k]$, is the arithmetic mean value across the sample functions for a given time instant $k$. \n",
    "\n",
    "Introducing $f(x[k]) = x[k]$ into the definition of the ensemble average yields\n",
    "\n",
    "$$ \\mu_x[k] = E\\{ x[k] \\} = \\int\\limits_{-\\infty}^{\\infty} \\theta \\, p_x(\\theta, k) \\, \\mathrm{d}\\theta $$\n",
    "\n",
    "where $\\mu_x[k]$ is a common abbreviation of the linear mean. A process with $\\mu_x[k] = 0$ is termed *zero-mean*. Note that $\\mu_x$ should not be confused with the frequency index variable of the DFT."
   ]
  },
  {
   "cell_type": "markdown",
   "metadata": {},
   "source": [
    "#### Quadratic mean"
   ]
  },
  {
   "cell_type": "markdown",
   "metadata": {},
   "source": [
    "The quadratic mean is given for $f(x[k]) = x^2[k]$\n",
    "\n",
    "$$E\\{ x^2[k] \\} = \\int\\limits_{-\\infty}^{\\infty} \\theta^2 \\, p_x(\\theta, k) \\, \\mathrm{d}\\theta $$\n",
    "\n",
    "It quantifies the mean instantaneous power of a sample function for a given time index $k$."
   ]
  },
  {
   "cell_type": "markdown",
   "metadata": {},
   "source": [
    "#### Variance"
   ]
  },
  {
   "cell_type": "markdown",
   "metadata": {},
   "source": [
    "The [variance](https://en.wikipedia.org/wiki/Variance) is the quadratic mean of a zero-mean random process. It is given as\n",
    "\n",
    "$$\\sigma_x^2[k] = E\\{ (x[k] - \\mu_x[k])^2 \\}$$\n",
    "\n",
    "where $\\sigma_x^2[k]$ is a common abbreviation of the variance, $\\sigma_x[k]$ is known as the standard deviation. The variance characterizes how far the amplitude values of a random signal are spread out from its mean value.\n",
    "\n",
    "The variance can be given in terms of the linear and quadratic mean as\n",
    "\n",
    "$$ \\sigma_x^2[k] = E\\{ x^2[k] \\} - \\mu_x^2[k] $$\n",
    "\n",
    "**Excercise**\n",
    "\n",
    "* Derive the relation above from the definitions and properties of the first order ensemble average"
   ]
  },
  {
   "cell_type": "markdown",
   "metadata": {},
   "source": [
    "#### Linear/quadratic mean and variance of a random process"
   ]
  },
  {
   "cell_type": "markdown",
   "metadata": {},
   "source": [
    "The following example shows the linear and quadratic mean, and variance of a random process. Since in practice only a limited number $N$ of sample functions can be evaluated numerically these properties are only approximated/estimated."
   ]
  },
  {
   "cell_type": "code",
   "execution_count": 1,
   "metadata": {
    "collapsed": false
   },
   "outputs": [
    {
     "data": {
      "image/png": "[encoded data removed]",
      "text/plain": [
       "<matplotlib.figure.Figure at 0x1089154a8>"
      ]
     },
     "metadata": {},
     "output_type": "display_data"
    },
    {
     "data": {
      "image/png": "[encoded data removed]",
      "text/plain": [
       "<matplotlib.figure.Figure at 0x10a604c50>"
      ]
     },
     "metadata": {},
     "output_type": "display_data"
    },
    {
     "data": {
      "image/png": "[encoded data removed]",
      "text/plain": [
       "<matplotlib.figure.Figure at 0x10a6085c0>"
      ]
     },
     "metadata": {},
     "output_type": "display_data"
    },
    {
     "data": {
      "image/png": "[encoded data removed]",
      "text/plain": [
       "<matplotlib.figure.Figure at 0x10a700128>"
      ]
     },
     "metadata": {},
     "output_type": "display_data"
    }
   ],
   "source": [
    "%matplotlib inline\n",
    "import numpy as np\n",
    "import matplotlib.pyplot as plt\n",
    "\n",
    "K = 64  # number of random samples\n",
    "N = 1000  # number of sample functions\n",
    "\n",
    "\n",
    "# generate the sample functions\n",
    "x = np.random.normal(size=(N, K))\n",
    "x += np.tile(np.cos(2*np.pi/K*np.arange(K)), [N, 1])\n",
    "\n",
    "# approximate the linear mean as ensemble average\n",
    "mu = 1/N * np.sum(x, 0)\n",
    "# approximate the quadratic mean\n",
    "qu = 1/N * np.sum(x**2, 0)\n",
    "# approximate the variance\n",
    "sigma = 1/N * np.sum((x-mu)**2, 0)\n",
    "\n",
    "\n",
    "# plot results\n",
    "plt.rc('figure', figsize=(10, 3))\n",
    "\n",
    "plt.figure()\n",
    "plt.stem(x[0, :])\n",
    "plt.title(r'Sample function $x_0[k]$')\n",
    "plt.xlabel(r'$k$')\n",
    "plt.ylabel(r'$x_0[k]$')\n",
    "plt.axis([0, K, -3, 3])\n",
    "\n",
    "plt.figure()\n",
    "plt.stem(mu)\n",
    "plt.title(r'Estimated linear mean $\\hat{\\mu}_x[k]$ ')\n",
    "plt.xlabel(r'$k$')\n",
    "plt.ylabel(r'$\\mu_x[k]$')\n",
    "plt.axis([0, K, -1.5, 1.5])\n",
    "\n",
    "plt.figure()\n",
    "plt.stem(qu)\n",
    "plt.title(r'Estimated quadratic mean')\n",
    "plt.xlabel(r'$k$')\n",
    "plt.ylabel(r'$E\\{x^2[k]\\}$')\n",
    "plt.axis([0, K, 0, 2.5])\n",
    "\n",
    "plt.figure()\n",
    "plt.stem(sigma)\n",
    "plt.title(r'Estimated variance $\\hat{\\sigma}^2_x[k]$')\n",
    "plt.xlabel(r'$k$')\n",
    "plt.ylabel(r'$\\sigma_x^2[k]$')\n",
    "plt.axis([0, K, 0, 1.5]);"
   ]
  },
  {
   "cell_type": "markdown",
   "metadata": {},
   "source": [
    "**Exercise**\n",
    "\n",
    "* What does the linear and quadratic mean, and the variance tell you about the general behavior of the sample functions?\n",
    "* Change the number `N` of sample functions and rerun the cell. What influence has a decrease/increase of the sample functions on the estimated ensemble averages?"
   ]
  },
  {
   "cell_type": "markdown",
   "metadata": {},
   "source": [
    "### Second Order Ensemble Averages"
   ]
  },
  {
   "cell_type": "markdown",
   "metadata": {},
   "source": [
    "#### Definition"
   ]
  },
  {
   "cell_type": "markdown",
   "metadata": {},
   "source": [
    "The second order ensemble average of two continuous-amplitude real-valued random signals $x[k]$ and $y[k]$ is defined as\n",
    "\n",
    "$$E\\{ f(x[k_x], y[k_y]) \\} := \\lim_{N \\to \\infty} \\frac{1}{N} \\sum_{n=0}^{N-1} f(x_n[k_x], y_n[k_y])$$\n",
    "\n",
    "It can be given in terms of the bivariate PDF as\n",
    "\n",
    "$$E\\{ f(x[k_x], y[k_y]) \\} = \\iint\\limits_{-\\infty}^{\\infty} f(\\theta_x, \\theta_y) \\, p_{xy}(\\theta_x, \\theta_y, k_x, k_y) \\, \\mathrm{d}\\theta_x\\, \\mathrm{d}\\theta_y$$"
   ]
  },
  {
   "cell_type": "markdown",
   "metadata": {},
   "source": [
    "#### Cross-correlation function"
   ]
  },
  {
   "cell_type": "markdown",
   "metadata": {},
   "source": [
    "The [cross-correlation function](https://en.wikipedia.org/wiki/Cross-correlation) (CCF) of two random signals $x[k]$ and $y[k]$ is defined as the second order ensemble average for a linear mapping $f(x[k_x], y[k_y]) = x[k_x] \\cdot y[k_y]$\n",
    "\n",
    "$$\\varphi_{xy}[k_x, k_y] = E\\{ x[k_x] \\cdot y[k_y] \\}$$\n",
    "\n",
    "It characterizes the statistical dependencies of two random signals at two different time instants."
   ]
  },
  {
   "cell_type": "markdown",
   "metadata": {},
   "source": [
    "#### Auto-correlation function"
   ]
  },
  {
   "cell_type": "markdown",
   "metadata": {},
   "source": [
    "The [auto-correlation function](https://en.wikipedia.org/wiki/Autocorrelation) (ACF) of a random signal $x[k]$ is defined as the second order ensemble average for a linear mapping $f(x[k_x], y[k_y]) = x[k_1] \\cdot x[k_2]$\n",
    "\n",
    "$$\\varphi_{xx}[k_1, k_2] = E\\{ x[k_1] \\cdot x[k_2] \\}$$\n",
    "\n",
    "It characterizes the statistical dependencies between the samples of a random signal at two different time instants."
   ]
  },
  {
   "cell_type": "markdown",
   "metadata": {
    "nbsphinx": "hidden"
   },
   "source": [
    "**Copyright**\n",
    "\n",
    "<p xmlns:dct=\"http://purl.org/dc/terms/\">\n",
    "  <a rel=\"license\"\n",
    "     href=\"http://creativecommons.org/publicdomain/zero/1.0/\">\n",
    "    <img src=\"http://i.creativecommons.org/p/zero/1.0/88x31.png\" style=\"border-style: none;\" alt=\"CC0\" />\n",
    "  </a>\n",
    "  <br />\n",
    "  To the extent possible under law,\n",
    "  <span rel=\"dct:publisher\" resource=\"[_:publisher]\">the person who associated CC0</span>\n",
    "  with this work has waived all copyright and related or neighboring\n",
    "  rights to this work.\n",
    "</p>"
   ]
  }
 ],
 "metadata": {
  "kernelspec": {
   "display_name": "Python 3",
   "language": "python",
   "name": "python3"
  },
  "language_info": {
   "codemirror_mode": {
    "name": "ipython",
    "version": 3
   },
   "file_extension": ".py",
   "mimetype": "text/x-python",
   "name": "python",
   "nbconvert_exporter": "python",
   "pygments_lexer": "ipython3",
   "version": "3.5.0"
  }
 },
 "nbformat": 4,
 "nbformat_minor": 0
}
