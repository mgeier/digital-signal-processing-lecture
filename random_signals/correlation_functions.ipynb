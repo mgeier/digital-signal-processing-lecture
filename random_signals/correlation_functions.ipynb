{
 "cells": [
  {
   "cell_type": "markdown",
   "metadata": {
    "nbsphinx": "hidden"
   },
   "source": [
    "# Random Signals\n",
    "\n",
    "*This jupyter/Python notebook is part of a [collection of notebooks](../index.ipynb) in the masters module [Digital Signal Processing](http://www.int.uni-rostock.de/Digitale-Signalverarbeitung.48.0.html), Comunications Engineering, Universität Rostock. Please direct questions and suggestions to <mailto:Sascha.Spors@uni-rostock.de>.*"
   ]
  },
  {
   "cell_type": "markdown",
   "metadata": {},
   "source": [
    "## Auto-Correlation Function\n",
    "\n",
    "The [auto-correlation function](https://en.wikipedia.org/wiki/Autocorrelation) (ACF) characterizes the temporal dependencies of a random signal $x[k]$. It is an important measure for the analysis of signals in communications engineering, coding and system identification."
   ]
  },
  {
   "cell_type": "markdown",
   "metadata": {},
   "source": [
    "### Definition\n",
    "\n",
    "The ACF of a continuous-amplitude real-valued weakly stationary process $x[k]$ is given as\n",
    "\n",
    "$$\\varphi_{xx}[\\kappa] = E\\{x[k] \\cdot x[k-\\kappa] \\}$$\n",
    "\n",
    "where $\\kappa$ is commonly chosen as sample index instead of $k$ in order to indicate that it denotes a shift/lag. The ACF quantifies the similarity of a signal with a shifted version of itself. It has high values for high similarity and low values for low similarity.\n",
    "\n",
    "If the process is additionally weakly ergodic, the ACF can be computed by averaging along one sample function\n",
    "\n",
    "$$\\varphi_{xx}[\\kappa] = \\lim_{K \\to \\infty} \\frac{1}{2K + 1} \\sum_{k=-K}^{K} x[k] \\cdot x[k-\\kappa]$$\n",
    "\n",
    "Note that the normalization on the left side of the sum is discarded in some definitions of the ACF. Above summation resembles strongly the definition of the discrete convolution. For a random signal $x_N[k] = \\text{rect}_N[k] \\cdot x[k]$ of finite length $N$ and by exploiting the properties of a weakly ergodic random process one yields\n",
    "\n",
    "$$\\varphi_{xx}[\\kappa] = \\frac{1}{N} \\sum_{k=0}^{N-1} x_N[k] \\cdot x_N[k-\\kappa] = \\frac{1}{N} \\; x_N[k] * x_N[-k]$$\n",
    "\n",
    "where the ACF $\\varphi_{xx}[\\kappa] = 0$ for $|\\kappa| > N-1$. Hence, the ACF can be computed by (fast) convolution of the random signal with a time reversed version of itself. \n",
    "\n",
    "Note in practical implementations (e.g. Python), the computed ACF is stored in a vector of length $2 N - 1$. The positive indexes $0, 1, \\dots, 2 N - 1$ of this vector cannot be directly interpreted as $\\kappa$. The indexes of the vector have to be shifted by $N-1$."
   ]
  },
  {
   "cell_type": "markdown",
   "metadata": {},
   "source": [
    "### Properties\n",
    "\n",
    "The following properties of the ACF can be deduced from its definition\n",
    "\n",
    "1. The ACF $\\varphi_{xx}[\\kappa]$ has a maximum for $\\kappa = 0$. It is given as\n",
    "\n",
    "    $$ \\varphi_{xx}[0] = E\\{x^2[k]\\} = \\sigma_x^2 + \\mu_x^2 $$\n",
    "    \n",
    "    This is due to the fact that the signal is equal to itself for $\\kappa = 0$. Please note that for periodic random signals more than one maximum will be present.\n",
    "    \n",
    "2. The ACF is a function with even symmetry\n",
    "\n",
    "    $$ \\varphi_{xx}[\\kappa] = \\varphi_{xx}[-\\kappa] $$\n",
    "    \n",
    "3. For typical random signals, the ACF approaches the limiting value\n",
    "\n",
    "    $$ \\lim_{|\\kappa| \\to \\infty} \\varphi_{xx}[\\kappa] = \\mu_x^2$$\n",
    "    \n",
    "    The similarity of a typical random signal is often low for large lags $\\kappa$."
   ]
  },
  {
   "cell_type": "markdown",
   "metadata": {},
   "source": [
    "### Example\n",
    "\n",
    "The following example computes and plots the ACF for a speech signal."
   ]
  },
  {
   "cell_type": "code",
   "execution_count": 1,
   "metadata": {
    "collapsed": false
   },
   "outputs": [
    {
     "data": {
      "image/png": "[encoded data removed]",
      "text/plain": [
       "<matplotlib.figure.Figure at 0x104930ef0>"
      ]
     },
     "metadata": {},
     "output_type": "display_data"
    }
   ],
   "source": [
    "%matplotlib inline\n",
    "import numpy as np\n",
    "import matplotlib.pyplot as plt\n",
    "from scipy.io import wavfile\n",
    "\n",
    "K = 30  # limit for lags in ACF\n",
    "\n",
    "# read sound file \n",
    "fs, x = wavfile.read('../data/speech_8k.wav')\n",
    "x = np.asarray(x, dtype=float)/2**15\n",
    "\n",
    "# compute and truncate ACF\n",
    "acf = 1/len(x) * np.correlate(x, x, mode='full')\n",
    "acf = acf[(len(x)-1)-(K-1):(len(x)-1)+K]\n",
    "kappa = np.arange(-(K-1), K)\n",
    "\n",
    "# plot ACF\n",
    "fig = plt.figure(figsize = (10, 8))\n",
    "\n",
    "plt.stem(kappa, acf)\n",
    "plt.xlabel(r'$\\kappa$')\n",
    "plt.ylabel(r'$\\hat{\\varphi}_{xx}[\\kappa]$')\n",
    "plt.axis([-K, K, 1.1*min(acf), 1.1*max(acf)]);\n",
    "plt.grid()"
   ]
  },
  {
   "cell_type": "markdown",
   "metadata": {},
   "source": [
    "**Exercise**\n",
    "\n",
    "* Does the ACF fulfill the properties stated above?\n",
    "* The plot shows only a small part of the ACF. Increase the range `K` for $-K \\leq \\kappa < K$ and check if the last property is fulfilled for the speech signal."
   ]
  },
  {
   "cell_type": "markdown",
   "metadata": {},
   "source": [
    "## Auto-Covariance Function\n",
    "\n",
    "The [auto-covariance function](https://en.wikipedia.org/wiki/Covariance) is the ACF for the zero-mean random signal $x[k] - \\mu_x$. It is given as\n",
    "\n",
    "$$\\psi_{xx}[\\kappa] = \\varphi_{xx}[\\kappa] - \\mu_x^2 $$"
   ]
  },
  {
   "cell_type": "markdown",
   "metadata": {},
   "source": [
    "## Cross-Correlation Function\n",
    "\n",
    "The cross-correlation function (CCF) is a measure of similarity that two random signals $x[k]$ and $y[k - \\kappa]$ have with respect to the temporal shift $\\kappa \\in \\mathbb{Z}$."
   ]
  },
  {
   "cell_type": "markdown",
   "metadata": {},
   "source": [
    "### Definition\n",
    "\n",
    "The CCF of two continuous-amplitude real-valued weakly stationary processes $x[k]$ and $y[k]$ is given as\n",
    "\n",
    "$$\\varphi_{xy}[\\kappa] = E\\{x[k] \\cdot y[k - \\kappa] \\} = E\\{x[k + \\kappa] \\cdot y[k] \\}$$\n",
    "\n",
    "If $x[k]$ and $y[k]$ are weakly ergodic processes, the CCF can be computed by averaging along one sample function\n",
    "\n",
    "$$\\varphi_{xy}[\\kappa] = \\lim_{K \\to \\infty} \\frac{1}{2K + 1} \\sum_{k=-K}^{K} x[k] \\cdot y[k-\\kappa]$$\n",
    "\n",
    "For random signals $x_N[k] = \\text{rect}_N[k] \\cdot x[k]$ and $y_M[k] = \\text{rect}_M[k] \\cdot Y[k]$ of finite lengths $N$ and $M$ one yields\n",
    "\n",
    "$$\\varphi_{xy}[\\kappa] = \\frac{1}{N} \\sum_{k=0}^{N-1} x[k] \\cdot y[k-\\kappa] = \\frac{1}{N} \\; x[k] * y[-k]$$\n",
    "\n",
    "where the CCF $\\varphi_{xy}[\\kappa] = 0$ for $\\kappa < -(M-1)$ and $\\kappa > N-1$. The CCF can be computed by (fast) convolution of one random signal with a time reversed version of the other random signal. Note in practical implementations (e.g. Python), the computed CCF is stored in a vector of length $N + M - 1$. The positive indexes $0, 1, \\dots, N + M - 1$ of this vector cannot be directly interpreted as $\\kappa$. The indexes of the vector have to be shifted by $M-1$.\n",
    "\n",
    "Above definitions hold also for the CCF $\\varphi_{yx}[\\kappa]$ when exchanging $x[k]$ with $y[k]$ and $N$ with $M$."
   ]
  },
  {
   "cell_type": "markdown",
   "metadata": {},
   "source": [
    "### Properties\n",
    "\n",
    "1. For an exchange of the two random signals, the CCF exhibits the following symmetry\n",
    "\n",
    "    $$\\varphi_{xy}[\\kappa] = \\varphi_{yx}[-\\kappa]$$\n",
    "    \n",
    "2. The CCF is constant for [*uncorrelated*](https://en.wikipedia.org/wiki/Uncorrelated_random_variables) random signals\n",
    "\n",
    "    $$ \\varphi_{xy}[\\kappa] = \\mu_x \\cdot \\mu_y $$\n",
    "    \n",
    "    Typical random processes are uncorrelated for $|\\kappa| \\to \\infty$.\n"
   ]
  },
  {
   "cell_type": "markdown",
   "metadata": {},
   "source": [
    "### Example\n",
    "\n",
    "The following example computes the CCF for two uncorrelated random signals"
   ]
  },
  {
   "cell_type": "code",
   "execution_count": 18,
   "metadata": {
    "collapsed": false
   },
   "outputs": [
    {
     "name": "stdout",
     "output_type": "stream",
     "text": [
      "Mean of signal x[k]: 2.049598\n",
      "Mean of signal y[k]: 0.944363\n"
     ]
    },
    {
     "data": {
      "image/png": "[encoded data removed]",
      "text/plain": [
       "<matplotlib.figure.Figure at 0x108df1ba8>"
      ]
     },
     "metadata": {},
     "output_type": "display_data"
    }
   ],
   "source": [
    "K = 1024  # length of random signals\n",
    "\n",
    "# generate two uncorrelated random signals\n",
    "x = 2+np.random.normal(size=K)\n",
    "y = 1+np.random.normal(size=2*K)\n",
    "\n",
    "# compute CCF\n",
    "ccf = 1/len(x) * np.correlate(x, y, mode='full')\n",
    "kappa = np.arange(-(K-1), 2*K)\n",
    "\n",
    "# print mean values of signals\n",
    "print('Mean of signal x[k]: %f' %np.mean(x))\n",
    "print('Mean of signal y[k]: %f' %np.mean(y))\n",
    "\n",
    "# plot CCF\n",
    "plt.figure(figsize = (10, 8))\n",
    "plt.stem(kappa, ccf)\n",
    "plt.title('Cross-correlation function')\n",
    "plt.ylabel(r'$\\varphi_{xy}[\\kappa]$')\n",
    "plt.xlabel(r'$\\kappa$')\n",
    "plt.axis([kappa[0], kappa[-1], 0, 1.1*max(ccf)]);\n",
    "plt.grid()"
   ]
  },
  {
   "cell_type": "markdown",
   "metadata": {},
   "source": [
    "**Exercise**\n",
    "\n",
    "* Why does the CCF of two finite length signals have this trapezoid like shape? \n",
    "* What would be its theoretic value for signals of infinte length?"
   ]
  },
  {
   "cell_type": "markdown",
   "metadata": {},
   "source": [
    "## Cross-Covariance Function\n",
    "\n",
    "The [cross-covariance function](https://en.wikipedia.org/wiki/Covariance) is the CCF for the zero-mean random signals $x[k] - \\mu_x$ and $y[k] - \\mu_y$. It is given as\n",
    "\n",
    "$$\\psi_{xy}[\\kappa] = \\varphi_{xy}[\\kappa] - \\mu_x \\mu_y $$"
   ]
  },
  {
   "cell_type": "markdown",
   "metadata": {},
   "source": [
    "**Exercise**\n",
    "\n",
    "* How would the plot for $\\psi_{xy}[\\kappa]$ look like for above example?"
   ]
  },
  {
   "cell_type": "markdown",
   "metadata": {
    "nbsphinx": "hidden"
   },
   "source": [
    "**Copyright**\n",
    "\n",
    "<p xmlns:dct=\"http://purl.org/dc/terms/\">\n",
    "  <a rel=\"license\"\n",
    "     href=\"http://creativecommons.org/publicdomain/zero/1.0/\">\n",
    "    <img src=\"http://i.creativecommons.org/p/zero/1.0/88x31.png\" style=\"border-style: none;\" alt=\"CC0\" />\n",
    "  </a>\n",
    "  <br />\n",
    "  To the extent possible under law,\n",
    "  <span rel=\"dct:publisher\" resource=\"[_:publisher]\">the person who associated CC0</span>\n",
    "  with this work has waived all copyright and related or neighboring\n",
    "  rights to this work.\n",
    "</p>"
   ]
  }
 ],
 "metadata": {
  "kernelspec": {
   "display_name": "Python 3",
   "language": "python",
   "name": "python3"
  },
  "language_info": {
   "codemirror_mode": {
    "name": "ipython",
    "version": 3
   },
   "file_extension": ".py",
   "mimetype": "text/x-python",
   "name": "python",
   "nbconvert_exporter": "python",
   "pygments_lexer": "ipython3",
   "version": "3.4.3"
  }
 },
 "nbformat": 4,
 "nbformat_minor": 0
}
