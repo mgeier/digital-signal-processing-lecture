{
 "cells": [
  {
   "cell_type": "markdown",
   "metadata": {
    "nbsphinx": "hidden"
   },
   "source": [
    "# Random Signals\n",
    "\n",
    "*This jupyter/Python notebook is part of a [collection of notebooks](../index.ipynb) in the masters module [Digital Signal Processing](http://www.int.uni-rostock.de/Digitale-Signalverarbeitung.48.0.html), Comunications Engineering, Universität Rostock. Please direct questions and suggestions to <mailto:Sascha.Spors@uni-rostock.de>.*"
   ]
  },
  {
   "cell_type": "markdown",
   "metadata": {},
   "source": [
    "## Introduction"
   ]
  },
  {
   "cell_type": "markdown",
   "metadata": {},
   "source": [
    "Random signals are signals whose values are not (or only to a limited extend) predictable. Frequently used alternative terms are\n",
    "\n",
    "* stochastic signals\n",
    "* non-deterministic signals\n",
    "\n",
    "Random signals play an important role in various fields of signal processing and communications. This is due to the fact that only random signals carry information. A signal which is observed by some receiver has to have unknown contributions in order to represent [information](https://en.wikipedia.org/wiki/Information).\n",
    "\n",
    "Random signals are often classified as useful/desired and disturbing/interfering signals. For instance\n",
    "\n",
    "* useful signals: data, speech, music, ...\n",
    "* disturbing signals: thermal noise at a resistor, amplifier noise, quantization noise, ...\n",
    "\n",
    "Practical signals are frequently modeled as a combination of a useful signal and an additive noise component. \n",
    "\n",
    "As the values of a random signal cannot be foreseen, the properties of random signals are described by the their statistical characteristics. For instance by average values."
   ]
  },
  {
   "cell_type": "markdown",
   "metadata": {},
   "source": [
    "### Statistical Signal Processing"
   ]
  },
  {
   "cell_type": "markdown",
   "metadata": {},
   "source": [
    "[Statistical signal processing](https://en.wikipedia.org/wiki/Statistical_signal_processing) treats signals as random processes, in contrary to the assumption of deterministic signals in traditional signal processing. Two prominent application examples involving random signals are"
   ]
  },
  {
   "cell_type": "markdown",
   "metadata": {},
   "source": [
    "#### Measurement of physical quantities"
   ]
  },
  {
   "cell_type": "markdown",
   "metadata": {},
   "source": [
    "The measurement of physical quantities is often subject to additive noise and distortions by e.g. the amplifier. The aim of statistical signal processing is to estimate the physical quantity from the observed sensor data.\n",
    "\n",
    "![Illustration: Measurement of pyhisical quantities](../images/random_signals-1.png)\n",
    "\n",
    "$\\mathcal{H}$ denotes an arbitrary (not necessarily LTI) system."
   ]
  },
  {
   "cell_type": "markdown",
   "metadata": {},
   "source": [
    "#### Communication channel"
   ]
  },
  {
   "cell_type": "markdown",
   "metadata": {},
   "source": [
    "In communications a message is send over a channel distorting the signal by e.g. multipath propagation. Additive noise is present at the receiver due to background and amplifier noise. The aim of statistical signal processing is to estimate the message sent from the received message.\n",
    "\n",
    "![Illustration: Communication channel](../images/random_signals-2.png)"
   ]
  },
  {
   "cell_type": "markdown",
   "metadata": {},
   "source": [
    "### Random Processes"
   ]
  },
  {
   "cell_type": "markdown",
   "metadata": {},
   "source": [
    "A random process is a [stochastic process](https://en.wikipedia.org/wiki/Stochastic_process) which generates an ensemble of random signals. A random process\n",
    "\n",
    "* provides a mathematical model for an ensemble of random signals\n",
    "* generates different sample functions with specific common properties\n",
    "\n",
    "Its is important to differentiate between\n",
    "\n",
    "* *ensemble*: collection of all possible signals of a random process\n",
    "* *sample function*: one specific random signal\n",
    "\n",
    "An example for a random process is speech produced by humans. Here the ensemble is composed from the speech signals produced by all humans on earth, one particular speech signal produced by one person at a specific time is a sample function."
   ]
  },
  {
   "cell_type": "markdown",
   "metadata": {},
   "source": [
    "#### Sample functions of a random process"
   ]
  },
  {
   "cell_type": "markdown",
   "metadata": {},
   "source": [
    "The following example shows sample functions of a continuous amplitude real-valued random process. All sample functions have the same characteristics with respect to certain statistical properties."
   ]
  },
  {
   "cell_type": "code",
   "execution_count": 1,
   "metadata": {
    "collapsed": false
   },
   "outputs": [
    {
     "data": {
      "image/png": "[encoded data removed]",
      "text/plain": [
       "<matplotlib.figure.Figure at 0x10b92d320>"
      ]
     },
     "metadata": {},
     "output_type": "display_data"
    }
   ],
   "source": [
    "%matplotlib inline\n",
    "import numpy as np\n",
    "import matplotlib.pyplot as plt\n",
    "\n",
    "# draw 3 sample functions from a random process\n",
    "x = np.random.normal(size=(3, 32))\n",
    "\n",
    "# plot sample functions\n",
    "fig = plt.figure(figsize=(10, 8))\n",
    "for n in range(3):\n",
    "    plt.subplot(3,1,n+1)\n",
    "    plt.tight_layout()\n",
    "    plt.stem(x[n,:])\n",
    "    plt.title('Sample Function %d' %n)\n",
    "    plt.xlabel(r'$k$')\n",
    "    plt.ylabel(r'$x_%d[k]$' %n)\n",
    "    plt.axis([0, 32, -3, 3])"
   ]
  },
  {
   "cell_type": "markdown",
   "metadata": {},
   "source": [
    "**Exercise**\n",
    "\n",
    "* What is different, what is common between the sample functions?\n",
    "* Rerun the cell. What changes now?"
   ]
  },
  {
   "cell_type": "markdown",
   "metadata": {},
   "source": [
    "### Properties of Random Processes and Random Signals"
   ]
  },
  {
   "cell_type": "markdown",
   "metadata": {},
   "source": [
    "Random signals can be characterized by their\n",
    "\n",
    "* amplitude distributions and\n",
    "* ensemble averages/moments.\n",
    "\n",
    "Both measures will be introduced in the following section."
   ]
  },
  {
   "cell_type": "markdown",
   "metadata": {
    "nbsphinx": "hidden"
   },
   "source": [
    "**Copyright**\n",
    "\n",
    "<p xmlns:dct=\"http://purl.org/dc/terms/\">\n",
    "  <a rel=\"license\"\n",
    "     href=\"http://creativecommons.org/publicdomain/zero/1.0/\">\n",
    "    <img src=\"http://i.creativecommons.org/p/zero/1.0/88x31.png\" style=\"border-style: none;\" alt=\"CC0\" />\n",
    "  </a>\n",
    "  <br />\n",
    "  To the extent possible under law,\n",
    "  <span rel=\"dct:publisher\" resource=\"[_:publisher]\">the person who associated CC0</span>\n",
    "  with this work has waived all copyright and related or neighboring\n",
    "  rights to this work.\n",
    "</p>"
   ]
  }
 ],
 "metadata": {
  "kernelspec": {
   "display_name": "Python 3",
   "language": "python",
   "name": "python3"
  },
  "language_info": {
   "codemirror_mode": {
    "name": "ipython",
    "version": 3
   },
   "file_extension": ".py",
   "mimetype": "text/x-python",
   "name": "python",
   "nbconvert_exporter": "python",
   "pygments_lexer": "ipython3",
   "version": "3.5.0"
  }
 },
 "nbformat": 4,
 "nbformat_minor": 0
}
