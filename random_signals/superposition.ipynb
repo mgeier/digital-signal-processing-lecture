{
 "cells": [
  {
   "cell_type": "markdown",
   "metadata": {
    "nbsphinx": "hidden"
   },
   "source": [
    "# Random Signals\n",
    "\n",
    "*This jupyter/Python notebook is part of a [collection of notebooks](../index.ipynb) in the masters module [Digital Signal Processing](http://www.int.uni-rostock.de/Digitale-Signalverarbeitung.48.0.html), Comunications Engineering, Universität Rostock. Please direct questions and suggestions to <mailto:Sascha.Spors@uni-rostock.de>.*"
   ]
  },
  {
   "cell_type": "markdown",
   "metadata": {},
   "source": [
    "## Superposition of Random Signals\n",
    "\n",
    "The superposition of two random signals \n",
    "\n",
    "$$y[k] = x[k] + n[k]$$ \n",
    "\n",
    "is a frequently applied operation in statistical signal processing. For instance to model the distortions of a measurement procedure or communication channel. We assume that the statistical properties of the real-valued signals $x[k]$ and $n[k]$ are known. We are interested in the statistical properties of $y[k]$, as well as the joint statistical properties between the signals and their superposition $y[k]$. For the following derivations it is assumed that $x[k]$ and $n[k]$ are drawn from weakly stationary real-valued random processes. "
   ]
  },
  {
   "cell_type": "markdown",
   "metadata": {},
   "source": [
    "### Cumulative Distribution and Probability Density Function\n",
    "\n",
    "The cumulative distribution function (CDF) $P_y(\\theta)$ of $y[k]$ is given by rewriting it in terms of the joint probability density function (PDF) $p_{xn}(\\theta_x, \\theta_n)$\n",
    "\n",
    "$$ P_y(\\theta) = \\Pr \\{ y[k] \\leq \\theta \\} = \\Pr \\{ (x[k] + n[k]) \\leq \\theta \\} =\n",
    "\\int\\limits_{-\\infty}^{\\infty} \\int\\limits_{-\\infty}^{\\theta - \\theta_n} p_{xn}(\\theta_x, \\theta_n) \\; \\mathrm{d}\\theta_x\\,\\mathrm{d}\\theta_n $$\n",
    "\n",
    "The PDF is derived by introducing above result into [its definition](distributions.ipynb#Univariate-Probability-Density-Function) as\n",
    "\n",
    "$$ p_y(\\theta) = \\frac{\\mathrm{d} P_y(\\theta)}{\\mathrm{d}\\theta} = \\int\\limits_{-\\infty}^{\\infty} p_{xn}(\\theta - \\theta_n, \\theta_n) \\; \\mathrm{d}\\theta_n$$\n",
    "\n",
    "since the inner integral on the right hand side of $P_y(\\theta)$ can be interpreted as the inverse operation to the derivation with respect to $\\theta$.\n",
    "\n",
    "An important special case is that $x[k]$ and $n[k]$ are uncorrelated. Under this assumption the joint PDF $p_{xn}(\\theta_x, \\theta_n)$ can be written as $p_{xn}(\\theta_x, \\theta_n) = p_x(\\theta_x) \\cdot p_n(\\theta_n)$. For $p_y(\\theta)$ follows\n",
    "\n",
    "$$ p_y(\\theta) = p_x(\\theta) * p_n(\\theta)$$\n",
    "\n",
    "Hence, the PDF of the superposition is given by the convolution of the PDFs of both signals."
   ]
  },
  {
   "cell_type": "markdown",
   "metadata": {},
   "source": [
    "#### Example\n",
    "\n",
    "The following example estimates the PDF of a superposition of two uncorrelated signals drawn from [uniformly distributed](important_distributions.ipynb#Uniform-Distribution) white noise sources with $a=0$ and $b=1$."
   ]
  },
  {
   "cell_type": "code",
   "execution_count": 1,
   "metadata": {
    "collapsed": false
   },
   "outputs": [
    {
     "data": {
      "image/png": "[encoded data removed]",
      "text/plain": [
       "<matplotlib.figure.Figure at 0x1070420f0>"
      ]
     },
     "metadata": {},
     "output_type": "display_data"
    }
   ],
   "source": [
    "%matplotlib inline\n",
    "import numpy as np\n",
    "import matplotlib.pyplot as plt\n",
    "\n",
    "N = 10000  # length of random signals\n",
    "\n",
    "# generate random signals\n",
    "x = np.random.uniform(size=N)\n",
    "n = np.random.uniform(size=N)\n",
    "y = x + n\n",
    "\n",
    "# plot estimated pdf\n",
    "plt.figure(figsize = (10, 6))\n",
    "plt.hist(y, 50, normed=True)\n",
    "plt.title('Estimated PDF')\n",
    "plt.xlabel(r'$\\theta$')\n",
    "plt.ylabel(r'$\\hat{p}_y(\\theta)$');"
   ]
  },
  {
   "cell_type": "markdown",
   "metadata": {},
   "source": [
    "**Exercise**\n",
    "\n",
    "* Check the result of the numerical simulation by calculating the theoretical PDF of $y[k]$"
   ]
  },
  {
   "cell_type": "markdown",
   "metadata": {},
   "source": [
    "### Linear Mean\n",
    "\n",
    "The linear mean $\\mu_y$ of the superposition is derived by introducing $y[k] = x[k] + n[k]$ into the [definition of the linear mean](ensemble_averages.ipynb#Linear-mean) and exploiting the [linearity of the expectation operator](ensemble_averages.ipynb#Properties) as\n",
    "\n",
    "$$ \\mu_y[k] = E \\{ x[k] + n[k] \\} = \\mu_x[k] + \\mu_n[k] $$\n",
    "\n",
    "The linear mean of the superposition of two random signals is the superposition of its linear means."
   ]
  },
  {
   "cell_type": "markdown",
   "metadata": {},
   "source": [
    "### Auto-Correlation Function and Power Spectral Density\n",
    "\n",
    "The ACF is computed in the same manner as above by inserting the superposition into its [definition](correlation_functions.ipynb#Auto-Correlation-Function) and rearranging terms\n",
    "\n",
    "\\begin{align}\n",
    "\\varphi_{yy}[\\kappa] &= E\\{ y[k] \\cdot y[k-\\kappa] \\} \\\\\n",
    "&= E\\{ (x[k] + n[k]) \\cdot (x[k-\\kappa] + n[k-\\kappa]) \\} \\\\\n",
    "&= \\varphi_{xx}[\\kappa] + \\varphi_{xn}[\\kappa] + \\varphi_{nx}[\\kappa] + \\varphi_{nn}[\\kappa] \n",
    "\\end{align}\n",
    "\n",
    "The ACF of the superposition of two random signals is given as the superposition of all auto- and cross-correlation functions (CCFs) of the two random signals. The power spectral density (PSD) is derived by discrete-time Fourier transformation (DTFT) of the ACF\n",
    "\n",
    "$$ \\Phi_{yy}(\\mathrm{e}^{\\,\\mathrm{j}\\,\\Omega}) = \\Phi_{xx}(\\mathrm{e}^{\\,\\mathrm{j}\\,\\Omega}) + \\Phi_{xn}(\\mathrm{e}^{\\,\\mathrm{j}\\,\\Omega}) + \\Phi_{nx}(\\mathrm{e}^{\\,\\mathrm{j}\\,\\Omega}) + \\Phi_{nn}(\\mathrm{e}^{\\,\\mathrm{j}\\,\\Omega}) $$\n",
    "\n",
    "This can be simplified further by exploiting the symmetry property of the CCFs $\\varphi_{xn}[\\kappa] = \\varphi_{nx}[-\\kappa]$ and the DTFT for real-valued signals as\n",
    "\n",
    "$$ \\Phi_{yy}(\\mathrm{e}^{\\,\\mathrm{j}\\,\\Omega}) = \\Phi_{xx}(\\mathrm{e}^{\\,\\mathrm{j}\\,\\Omega}) + 2\\,\\Re \\{ \\Phi_{xn}(\\mathrm{e}^{\\,\\mathrm{j}\\,\\Omega}) \\} + \\Phi_{nn}(\\mathrm{e}^{\\,\\mathrm{j}\\,\\Omega}) $$\n",
    "\n",
    "where $\\Re \\{ \\cdot \\}$ denotes the real part of its argument."
   ]
  },
  {
   "cell_type": "markdown",
   "metadata": {},
   "source": [
    "### Cross-Correlation Function and Cross Power Spectral Density\n",
    "\n",
    "The CCF $\\varphi_{ny}[\\kappa]$ between the random signal $n[k]$ and the superposition $y[k]$ is derived again by introducing the superposition into the [definition of the CCF](correlation_functions.ipynb#Cross-Correlation-Function)\n",
    "\n",
    "$$ \\varphi_{ny}[\\kappa] = E\\{ n[k] \\cdot (x[k-\\kappa] + n[k-\\kappa]) \\} = \\varphi_{nx}[\\kappa] + \\varphi_{nn}[\\kappa] $$\n",
    "\n",
    "It is given as the superposition of the CCF between the two random signals and the ACF of $n[k]$. The cross PSD is derived by applying a DTFT to $\\varphi_{ny}[\\kappa]$\n",
    "\n",
    "$$ \\Phi_{ny}(\\mathrm{e}^{\\,\\mathrm{j}\\,\\Omega}) = \\Phi_{nx}(\\mathrm{e}^{\\,\\mathrm{j}\\,\\Omega}) + \\Phi_{nn}(\\mathrm{e}^{\\,\\mathrm{j}\\,\\Omega})$$\n",
    "\n",
    "The CCF $\\varphi_{xy}[\\kappa]$ and cross PSD $\\Phi_{xy}(\\mathrm{e}^{\\,\\mathrm{j}\\,\\Omega})$ can be derived by exchanging the signals $n[k]$ and $x[k]$\n",
    "\n",
    "$$ \\varphi_{xy}[\\kappa] = E\\{ x[k] \\cdot (x[k-\\kappa] + n[k-\\kappa]) \\} = \\varphi_{xx}[\\kappa] + \\varphi_{xn}[\\kappa] $$\n",
    "\n",
    "and\n",
    "\n",
    "$$ \\Phi_{xy}(\\mathrm{e}^{\\,\\mathrm{j}\\,\\Omega}) = \\Phi_{xx}(\\mathrm{e}^{\\,\\mathrm{j}\\,\\Omega}) + \\Phi_{xn}(\\mathrm{e}^{\\,\\mathrm{j}\\,\\Omega})$$"
   ]
  },
  {
   "cell_type": "markdown",
   "metadata": {},
   "source": [
    "### Additive White Gaussian Noise\n",
    "\n",
    "In order to model the effect of distortions it is often assumed that a random signal $x[k]$ is distorted by additive normal distributed white noise resulting in the observed signal $y[k] = x[k] + n[k]$. It is furthermore assumed that the noise $n[k]$ is uncorrelated to the signal $x[k]$. This model is known as [additive white Gaussian noise](https://en.wikipedia.org/wiki/Additive_white_Gaussian_noise) (AWGN) model. \n",
    "\n",
    "For zero-mean random processes it follows $\\varphi_{xn}[\\kappa] = \\varphi_{nx}[\\kappa] = 0$ and $\\varphi_{nn}[\\kappa] = N_0 \\cdot \\delta[\\kappa]$ from the properties of the AWGN model. Introducing this into the findings for additive random signals yields the following relations for the AWGN model\n",
    "\n",
    "\\begin{align}\n",
    "\\varphi_{yy}[\\kappa] &= \\varphi_{xx}[\\kappa] + N_0 \\cdot \\delta[\\kappa] \\\\\n",
    "\\varphi_{ny}[\\kappa] &= N_0 \\cdot \\delta[\\kappa] \\\\\n",
    "\\varphi_{xy}[\\kappa] &= \\varphi_{xx}[\\kappa]\n",
    "\\end{align}\n",
    "\n",
    "The PSDs are given as the DTFT of these results. The AWGN model is frequently applied in communications as well as measurement of physical quantities to cope for background, sensor and amplifier noise."
   ]
  },
  {
   "cell_type": "markdown",
   "metadata": {},
   "source": [
    "#### Example\n",
    "\n",
    "For the following numerical example, the disturbance of a harmonic signal $x[k] = \\cos[\\Omega_0 k]$ by unit variance AWGN is considered."
   ]
  },
  {
   "cell_type": "code",
   "execution_count": 2,
   "metadata": {
    "collapsed": false
   },
   "outputs": [
    {
     "data": {
      "image/png": "[encoded data removed]",
      "text/plain": [
       "<matplotlib.figure.Figure at 0x108d4d5c0>"
      ]
     },
     "metadata": {},
     "output_type": "display_data"
    }
   ],
   "source": [
    "N = 1024  # length of signals\n",
    "K = 20  # maximum lag for ACF/CCF\n",
    "\n",
    "# generate signals\n",
    "x = np.cos(20*2*np.pi/N*np.arange(N))\n",
    "n = np.random.normal(size=N)\n",
    "# superposition of signals\n",
    "y = x + n\n",
    "\n",
    "# compute and truncate ACF of superposition\n",
    "acf = 1/N * np.correlate(y, y, mode='full')\n",
    "acf = acf[(len(x)-1)-(K-1):(len(x)-1)+K]\n",
    "# compute and truncate CCF of superposition and noise\n",
    "ccf = 1/N * np.correlate(n, y, mode='full')\n",
    "ccf = ccf[(len(x)-1)-(K-1):(len(x)-1)+K]\n",
    "\n",
    "\n",
    "# plot results\n",
    "kappa = np.arange(-(K-1), K)\n",
    "plt.figure(figsize=(10, 4))\n",
    "\n",
    "plt.subplot(121)\n",
    "plt.stem(kappa, acf)\n",
    "plt.title('ACF of superposition')\n",
    "plt.xlabel(r'$\\kappa$')\n",
    "plt.ylabel(r'$\\varphi_{yy}[\\kappa]$')\n",
    "plt.axis([-K, K, -.5, 1.1*np.max(acf)])\n",
    "\n",
    "plt.subplot(122)\n",
    "plt.stem(kappa, ccf)\n",
    "plt.title('CCF between superposition and noise')\n",
    "plt.xlabel(r'$\\kappa$')\n",
    "plt.ylabel(r'$\\varphi_{ny}[\\kappa]$')\n",
    "plt.axis([-K, K, -.2, 1.1]);"
   ]
  },
  {
   "cell_type": "markdown",
   "metadata": {},
   "source": [
    "**Exercise**\n",
    "\n",
    "* Derive the theoretic result for $\\varphi_{xx}[\\kappa]$\n",
    "* Based in this, can you explain the results of the numerical simulation?"
   ]
  },
  {
   "cell_type": "markdown",
   "metadata": {
    "nbsphinx": "hidden"
   },
   "source": [
    "**Copyright**\n",
    "\n",
    "<p xmlns:dct=\"http://purl.org/dc/terms/\">\n",
    "  <a rel=\"license\"\n",
    "     href=\"http://creativecommons.org/publicdomain/zero/1.0/\">\n",
    "    <img src=\"http://i.creativecommons.org/p/zero/1.0/88x31.png\" style=\"border-style: none;\" alt=\"CC0\" />\n",
    "  </a>\n",
    "  <br />\n",
    "  To the extent possible under law,\n",
    "  <span rel=\"dct:publisher\" resource=\"[_:publisher]\">the person who associated CC0</span>\n",
    "  with this work has waived all copyright and related or neighboring\n",
    "  rights to this work.\n",
    "</p>"
   ]
  }
 ],
 "metadata": {
  "kernelspec": {
   "display_name": "Python 3",
   "language": "python",
   "name": "python3"
  },
  "language_info": {
   "codemirror_mode": {
    "name": "ipython",
    "version": 3
   },
   "file_extension": ".py",
   "mimetype": "text/x-python",
   "name": "python",
   "nbconvert_exporter": "python",
   "pygments_lexer": "ipython3",
   "version": "3.5.0"
  }
 },
 "nbformat": 4,
 "nbformat_minor": 0
}
