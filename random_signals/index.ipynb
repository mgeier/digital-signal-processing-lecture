{
 "cells": [
  {
   "cell_type": "markdown",
   "metadata": {},
   "source": [
    "# Random Signals"
   ]
  },
  {
   "cell_type": "markdown",
   "metadata": {
    "nbsphinx-toctree": {}
   },
   "source": [
    "* [Introduction](introduction.ipynb)\n",
    "* [Amplitude Distributions](distributions.ipynb)\n",
    "* [Ensemble Averages](ensemble_averages.ipynb)\n",
    "* [Stationary and Ergodic Processes](stationary_ergodic.ipynb)\n",
    "* [Correlation Functions](correlation_functions.ipynb)\n",
    "* [Power Spectral Densities](power_spectral_densities.ipynb)\n",
    "* [Important Amplitude Distributions](important_distributions.ipynb)\n",
    "* [White Noise](white_noise.ipynb)\n",
    "* [Superposition of Random Signals](superposition.ipynb)"
   ]
  }
 ],
 "metadata": {
  "kernelspec": {
   "display_name": "Python 3",
   "language": "python",
   "name": "python3"
  },
  "language_info": {
   "codemirror_mode": {
    "name": "ipython",
    "version": 3
   },
   "file_extension": ".py",
   "mimetype": "text/x-python",
   "name": "python",
   "nbconvert_exporter": "python",
   "pygments_lexer": "ipython3",
   "version": "3.5.1+"
  }
 },
 "nbformat": 4,
 "nbformat_minor": 0
}
