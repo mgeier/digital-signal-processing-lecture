{
 "cells": [
  {
   "cell_type": "markdown",
   "metadata": {},
   "source": [
    "# Spectral Analysis of Deterministic Signals\n",
    "\n",
    "The analysis of the spectral properties of a signal plays an important role in\n",
    "signal processing.  Some application examples are\n",
    "\n",
    "* [Spectrum analyzer](https://en.wikipedia.org/wiki/Spectrum_analyzer)\n",
    "* Detection of (harmonic) signals\n",
    "* [Estimation of fundamental frequency and harmonics](https://en.wikipedia.org/wiki/Modal_analysis)\n",
    "* Spectral suppression: acoustic echo suppression, noise reduction, ...\n",
    "\n",
    "Spectral analysis often applies the [discrete Fourier transformation](https://en.wikipedia.org/wiki/Discrete_Fourier_transform) (DFT) onto\n",
    "discrete finite-length signals in order to determine the spectrum and its\n",
    "magnitude."
   ]
  },
  {
   "cell_type": "markdown",
   "metadata": {
    "nbsphinx-toctree": {}
   },
   "source": [
    "* [The Leakage-Effect](leakage_effect.ipynb)\n",
    "* [Window Functions](window_functions.ipynb)\n",
    "* [Zero-Padding](zero_padding.ipynb)\n",
    "* [Short-Time Fourier Transformation](stft.ipynb)"
   ]
  }
 ],
 "metadata": {
  "kernelspec": {
   "display_name": "Python 3",
   "language": "python",
   "name": "python3"
  },
  "language_info": {
   "codemirror_mode": {
    "name": "ipython",
    "version": 3
   },
   "file_extension": ".py",
   "mimetype": "text/x-python",
   "name": "python",
   "nbconvert_exporter": "python",
   "pygments_lexer": "ipython3",
   "version": "3.5.1+"
  }
 },
 "nbformat": 4,
 "nbformat_minor": 0
}
