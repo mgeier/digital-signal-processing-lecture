{
 "cells": [
  {
   "cell_type": "markdown",
   "metadata": {
    "nbsphinx": "hidden"
   },
   "source": [
    "# Spectral Estimation of Random Signals\n",
    "\n",
    "*This jupyter/Python notebook is part of a [collection of notebooks](../index.ipynb) in the masters module [Digital Signal Processing](http://www.int.uni-rostock.de/Digitale-Signalverarbeitung.48.0.html), Comunications Engineering, Universität Rostock. Please direct questions and suggestions to <mailto:Sascha.Spors@uni-rostock.de>.*"
   ]
  },
  {
   "cell_type": "markdown",
   "metadata": {},
   "source": [
    "## The Periodogram\n",
    "\n",
    "The [periodogram](https://en.wikipedia.org/wiki/Spectral_density_estimation#Periodogram) is an estimator for the power spectral density (PSD) $\\Phi_{xx}(\\mathrm{e}^{\\,\\mathrm{j}\\,\\Omega})$ of a random signal $x[k]$. We assume a weakly ergodic real-valued random process in the following."
   ]
  },
  {
   "cell_type": "markdown",
   "metadata": {
    "collapsed": true
   },
   "source": [
    "### Definition\n",
    "\n",
    "The PSD is given as the [discrete time Fourier transformation (DTFT) of the auto-correlation function (ACF)](../random_signals/power_spectral_densities.ipynb#Definition)\n",
    "\n",
    "$$ \\Phi_{xx}(\\mathrm{e}^{\\,\\mathrm{j}\\,\\Omega}) = \\mathcal{F}_* \\{ \\varphi_{xx}[\\kappa] \\} $$\n",
    "\n",
    "Hence, the PSD can be computed from an estimate of the ACF. Let's assume that we want to estimate the PSD from $N$ samples of the random signal $x[k]$ by way of the ACF. The truncated signal is given as\n",
    "\n",
    "$$ x_N[k] = x[k] \\cdot \\text{rect}_N[k] $$ \n",
    "\n",
    "The ACF is estimated by using its definition in a straightforward manner. For a random signal $x_N[k]$ of finite length, the estimated ACF $\\hat{\\varphi}_{xx}[\\kappa]$ can be expressed [in terms of a convolution](../random_signals/correlation_functions.ipynb#Definition)\n",
    "\n",
    "$$ \\hat{\\varphi}_{xx}[\\kappa] = \\frac{1}{N} \\cdot x_N[k] * x_N[-k] $$\n",
    "\n",
    "Applying the DTFT to both sides and rearranging the terms yields\n",
    "\n",
    "$$ \\hat{\\Phi}_{xx}(\\mathrm{e}^{\\,\\mathrm{j}\\,\\Omega}) = \\frac{1}{N} \\, X_N(\\mathrm{e}^{\\,\\mathrm{j}\\,\\Omega})\\, X_N(\\mathrm{e}^{\\,-\\mathrm{j}\\,\\Omega}) = \n",
    "\\frac{1}{N} \\, | X_N(\\mathrm{e}^{\\,\\mathrm{j}\\,\\Omega}) |^2 $$\n",
    "\n",
    "where the latter equality has been derived by applying the symmetry relations of the DTFT. This estimate of the PSD is known as the periodogram. It can be computed directly from the DTFT \n",
    "\n",
    "$$ X_N(\\mathrm{e}^{\\,\\mathrm{j}\\,\\Omega}) = \\sum_{k=0}^{N-1} x_N[k] \\, \\mathrm{e}^{\\,-\\mathrm{j}\\,\\Omega\\,k}$$\n",
    "\n",
    "of the truncated random signal (here for $0\\leq k\\leq N-1$)."
   ]
  },
  {
   "cell_type": "markdown",
   "metadata": {},
   "source": [
    "### Example\n",
    "\n",
    "The following example estimates the PSD of a random process which draws samples from normal distributed white noise with zero-mean and unit variance. The true PSD is given as $\\Phi_{xx}(\\mathrm{e}^{\\,\\mathrm{j}\\,\\Omega}) = 1$. In order to compute the periodogram by the discrete Fourier transformation (DFT), the signal $x[k]$ has to be zero-padded to ensure that above convolution is not circular."
   ]
  },
  {
   "cell_type": "code",
   "execution_count": 1,
   "metadata": {
    "collapsed": false
   },
   "outputs": [
    {
     "name": "stdout",
     "output_type": "stream",
     "text": [
      "Mean value of the periodogram: 0.960033\n"
     ]
    },
    {
     "data": {
      "image/png": "[encoded data removed]",
      "text/plain": [
       "<matplotlib.figure.Figure at 0x10bacfdd8>"
      ]
     },
     "metadata": {},
     "output_type": "display_data"
    }
   ],
   "source": [
    "%matplotlib inline\n",
    "import numpy as np\n",
    "import matplotlib.pyplot as plt\n",
    "\n",
    "N = 128  # number of samples\n",
    "\n",
    "# generate random signal\n",
    "x = np.random.normal(size=N)\n",
    "\n",
    "# compute magnitude of the periodogram\n",
    "x = np.concatenate((x, np.zeros_like(x)))\n",
    "X = np.fft.rfft(x)\n",
    "Om = np.linspace(0, np.pi, len(X))\n",
    "Sxx = 1/N * abs(X)**2\n",
    "\n",
    "# plot results\n",
    "plt.figure(figsize=(10,4))\n",
    "plt.stem(Om, Sxx, 'b', label=r'$|\\hat{\\Phi}_{xx}(e^{j \\Omega})|$')\n",
    "plt.plot(Om, np.ones_like(Sxx), 'r', label=r'$\\Phi_{xx}(e^{j \\Omega})$')\n",
    "plt.title('Estimated and true PSD')\n",
    "plt.xlabel(r'$\\Omega$')\n",
    "plt.axis([0, np.pi, 0, 5])\n",
    "plt.legend()\n",
    "\n",
    "# compute mean value of the periodogram\n",
    "print('Mean value of the periodogram: %f' %np.mean(np.abs(Sxx)))"
   ]
  },
  {
   "cell_type": "markdown",
   "metadata": {},
   "source": [
    "**Exercise**\n",
    "\n",
    "* What do you have to change to evaluate experimentally if the periodogram is a consistent estimator?\n",
    "* Based on the results, is the periodogram a consistent estimator?"
   ]
  },
  {
   "cell_type": "markdown",
   "metadata": {},
   "source": [
    "### Evaluation\n",
    "\n",
    "From above numerical example it should have become clear that the periodogram is no consistent estimator for the PSD $\\Phi_{xx}(\\mathrm{e}^{\\,\\mathrm{j}\\,\\Omega})$. It can be shown that the estimator is asymptotically bias free when $N \\to \\infty$, hence\n",
    "\n",
    "$$ \\lim_{N \\to \\infty} E\\{ \\hat{\\Phi}_{xx}(\\mathrm{e}^{\\,\\mathrm{j}\\,\\Omega})  \\} = \\Phi_{xx}(\\mathrm{e}^{\\,\\mathrm{j}\\,\\Omega}) $$\n",
    "\n",
    "This is due to the [leakage effect](../spectral_analysis_deterministic_signals/leakage_effect.ipynb) which limits the spectral resolution for signals of finite length.\n",
    "\n",
    "The variance of the estimator does not converge towards zero\n",
    "\n",
    "$$ \\lim_{N \\to \\infty} \\sigma^2_{\\hat{\\Phi}_{xx}} \\neq 0 $$\n",
    "\n",
    "This is due to the fact that with increasing $N$ also the number of independent frequencies $\\Omega = \\frac{2 \\pi}{N} \\mu$ for $\\mu = 0,1,\\dots,N-1$ increases.\n",
    "\n",
    "The periodogram is the basis for a variety of advanced estimation techniques for the PSD. These techniques rely on averaging or smoothing of (overlapping) periodograms."
   ]
  },
  {
   "cell_type": "markdown",
   "metadata": {
    "nbsphinx": "hidden"
   },
   "source": [
    "**Copyright**\n",
    "\n",
    "<p xmlns:dct=\"http://purl.org/dc/terms/\">\n",
    "  <a rel=\"license\"\n",
    "     href=\"http://creativecommons.org/publicdomain/zero/1.0/\">\n",
    "    <img src=\"http://i.creativecommons.org/p/zero/1.0/88x31.png\" style=\"border-style: none;\" alt=\"CC0\" />\n",
    "  </a>\n",
    "  <br />\n",
    "  To the extent possible under law,\n",
    "  <span rel=\"dct:publisher\" resource=\"[_:publisher]\">the person who associated CC0</span>\n",
    "  with this work has waived all copyright and related or neighboring\n",
    "  rights to this work.\n",
    "</p>"
   ]
  }
 ],
 "metadata": {
  "kernelspec": {
   "display_name": "Python 3",
   "language": "python",
   "name": "python3"
  },
  "language_info": {
   "codemirror_mode": {
    "name": "ipython",
    "version": 3
   },
   "file_extension": ".py",
   "mimetype": "text/x-python",
   "name": "python",
   "nbconvert_exporter": "python",
   "pygments_lexer": "ipython3",
   "version": "3.5.0"
  }
 },
 "nbformat": 4,
 "nbformat_minor": 0
}
