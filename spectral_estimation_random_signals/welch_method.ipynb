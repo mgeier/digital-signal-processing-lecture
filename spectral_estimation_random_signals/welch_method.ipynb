{
 "cells": [
  {
   "cell_type": "markdown",
   "metadata": {
    "nbsphinx": "hidden"
   },
   "source": [
    "# Spectral Estimation of Random Signals\n",
    "\n",
    "*This jupyter/Python notebook is part of a [collection of notebooks](../index.ipynb) in the masters module [Digital Signal Processing](http://www.int.uni-rostock.de/Digitale-Signalverarbeitung.48.0.html), Comunications Engineering, Universität Rostock. Please direct questions and suggestions to <mailto:Sascha.Spors@uni-rostock.de>.*"
   ]
  },
  {
   "cell_type": "markdown",
   "metadata": {},
   "source": [
    "## The Welch Method\n",
    "\n",
    "In the previous section it has been shown that the [periodogram](periodogram.ipynb), as a non-parametric estimator of the power spectral density (PSD) $\\Phi_{xx}(\\mathrm{e}^{\\,\\mathrm{j}\\,\\Omega})$ of a random signal $x[k]$, is not consistent. This is due to the fact that its variance does not converge towards zero even when the length of the random signal is increased towards infinity. In order to overcome this problem, the [Bartlett method](https://en.wikipedia.org/wiki/Bartlett's_method) and [Welch method](https://en.wikipedia.org/wiki/Welch's_method) \n",
    "\n",
    "1. split the random signal into segments, \n",
    "2. estimate the PSD for each segment, and \n",
    "3. average over these local estimates. \n",
    "\n",
    "The averaging reduces the variance of the estimated PSD. While Barlett's method uses non-overlapping segments, Welch's is a generalization using windowed overlapping segments. As before we assume a weakly ergodic real-valued random process for the discussion of Welch's method."
   ]
  },
  {
   "cell_type": "markdown",
   "metadata": {},
   "source": [
    "### Derivation\n",
    "\n",
    "Let's assume that we split the random signal $x[k]$ into $L$ overlapping segments $x_l[k]$ of length $N$ with $0\\leq l\\leq L-1$, starting at multiples of the stepsize $M \\in {1,2, \\dots, N}$. These segments are then windowed by the window $w[k]$ of length $N$, resulting in a windowed $l$-th segment. The discrete time Fourier transformation (DTFT) $X_l(\\mathrm{e}^{\\,\\mathrm{j}\\,\\Omega})$ of the windowed $l$-th segment is thus given as \n",
    "\n",
    "$$ X_l(\\mathrm{e}^{\\,\\mathrm{j}\\,\\Omega}) = \\sum_{k = 0}^{N-1} x[k + l \\cdot M] \\, w[k] \\; \\mathrm{e}^{\\,-\\mathrm{j}\\,\\Omega\\,k}$$\n",
    "\n",
    "where the window $w[k]$ defined within $0\\leq k\\leq N-1$ should be normalized as $\\frac{1}{N} \\sum\\limits_{k=0}^{N-1} | w[k] |^2 = 1$. The stepsize $M$ determines the overlap between the segments. In general $N-M$ number of samples overlap between adjacent segments, for $M = N$ no overlap occurs. The overlap is sometimes given as ratio $\\frac{N-M}{N}\\cdot 100\\%$. \n",
    "\n",
    "Introducing $X_l(\\mathrm{e}^{\\,\\mathrm{j}\\,\\Omega})$ into the definition of the periodogram yields the periodogram of the $l$-th segment\n",
    "\n",
    "$$ \\hat{\\Phi}_{xx,l}(\\mathrm{e}^{\\,\\mathrm{j}\\,\\Omega}) = \\frac{1}{N} \\,| X_l(\\mathrm{e}^{\\,\\mathrm{j}\\,\\Omega}) |^2 $$\n",
    "\n",
    "The estimated PSD is then given by averaging over the segment's periodograms $\\hat{\\Phi}_{xx,l}(\\mathrm{e}^{\\,\\mathrm{j}\\,\\Omega})$ \n",
    "\n",
    "$$ \\hat{\\Phi}_{xx}(\\mathrm{e}^{\\,\\mathrm{j}\\,\\Omega}) = \\frac{1}{L} \\sum_{l = 0}^{L-1} \\hat{\\Phi}_{xx,l}(\\mathrm{e}^{\\,\\mathrm{j}\\,\\Omega})$$\n",
    "\n",
    "Note, that the total number $L$ of segments has to be chosen such that the last required sample $(L-1)\\cdot M + N - 1$ does not exceed the total length of the random signal. Otherwise the last segment $x_{L-1}[k]$ may also be zeropadded towards length $N$.\n",
    "\n",
    "The Bartlett method uses a rectangular window and non-overlapping segments. The Welch method uses overlapping segments and a window that must be chosen according to the intended spectral analysis task."
   ]
  },
  {
   "cell_type": "markdown",
   "metadata": {},
   "source": [
    "### Example\n",
    "\n",
    "The following example is equivalent to the [periodogram example](periodogram.ipynb#Example). We aim at estimating the PSD of a random process which draws samples from normal distributed white noise with zero-mean and unit variance. The true PSD is given as $\\Phi_{xx}(\\mathrm{e}^{\\,\\mathrm{j}\\,\\Omega}) = 1$."
   ]
  },
  {
   "cell_type": "code",
   "execution_count": 21,
   "metadata": {
    "collapsed": false
   },
   "outputs": [
    {
     "name": "stdout",
     "output_type": "stream",
     "text": [
      "Mean value of the periodogram: 0.997852\n"
     ]
    },
    {
     "data": {
      "image/png": "[encoded data removed]",
      "text/plain": [
       "<matplotlib.figure.Figure at 0x111e835f8>"
      ]
     },
     "metadata": {},
     "output_type": "display_data"
    }
   ],
   "source": [
    "%matplotlib inline\n",
    "import numpy as np\n",
    "import matplotlib.pyplot as plt\n",
    "import scipy.signal as sig\n",
    "\n",
    "N = 128  # length of segments\n",
    "M = 64  # stepsize\n",
    "L = 100  # total number of segments\n",
    "\n",
    "# generate random signal\n",
    "x = np.random.normal(size=L*M)\n",
    "\n",
    "# compute periodogram by Welch's method\n",
    "nf, Pxx = sig.welch(x, window='hamming', nperseg=N, noverlap=(N-M))\n",
    "Pxx = .5*Pxx  # due to normalization in scipy.signal\n",
    "Om = 2*np.pi*nf\n",
    "\n",
    "# plot results\n",
    "plt.figure(figsize=(10,4))\n",
    "plt.stem(Om, Pxx, 'b', label=r'$|\\hat{\\Phi}_{xx}(e^{j \\Omega})|$')\n",
    "plt.plot(Om, np.ones_like(Pxx), 'r', label=r'$\\Phi_{xx}(e^{j \\Omega})$')\n",
    "plt.title('Estimated and true PSD')\n",
    "plt.xlabel(r'$\\Omega$')\n",
    "plt.axis([0, np.pi, 0, 2])\n",
    "plt.legend()\n",
    "\n",
    "# compute mean value of the periodogram\n",
    "print('Mean value of the periodogram: %f' %np.mean(np.abs(Pxx)))"
   ]
  },
  {
   "cell_type": "markdown",
   "metadata": {},
   "source": [
    "**Exercise**\n",
    "\n",
    "* Compare the results to the periodogram example. Is the variance of the estimator lower?\n",
    "* Change the number of segments `L` and check if the variance reduces further\n",
    "* Change the segment length `N` and stepsize `M`. What changes?"
   ]
  },
  {
   "cell_type": "markdown",
   "metadata": {},
   "source": [
    "### Evaluation\n",
    "\n",
    "It is shown in [[Stoica et al.](../index.ipynb#Literature)] that Welch's method is asymptotically unbiased. Under the assumption of a weakly stationary random process, the periodograms $\\hat{\\Phi}_{xx,l}(e^{j \\Omega})$ of the segments can be assumed to be approximately uncorrelated. Hence, averaging over these reduces the variance of the estimator. It can be shown formally that in the limiting case of an infinitely number of segments (infintely long signal) the variance tends to zero. As a result Welch's method is an asymptotically consistent estimator of the PSD. \n",
    "\n",
    "For a finite segment length $N$, the properties of the estimated PSD $\\hat{\\Phi}_{xx}(e^{j \\Omega})$ depend on the length $N$ of the segments and the window function $w[k]$ due to the [leakage effect](../spectral_analysis_deterministic_signals/leakage_effect.ipynb)."
   ]
  },
  {
   "cell_type": "markdown",
   "metadata": {
    "nbsphinx": "hidden"
   },
   "source": [
    "**Copyright**\n",
    "\n",
    "<p xmlns:dct=\"http://purl.org/dc/terms/\">\n",
    "  <a rel=\"license\"\n",
    "     href=\"http://creativecommons.org/publicdomain/zero/1.0/\">\n",
    "    <img src=\"http://i.creativecommons.org/p/zero/1.0/88x31.png\" style=\"border-style: none;\" alt=\"CC0\" />\n",
    "  </a>\n",
    "  <br />\n",
    "  To the extent possible under law,\n",
    "  <span rel=\"dct:publisher\" resource=\"[_:publisher]\">the person who associated CC0</span>\n",
    "  with this work has waived all copyright and related or neighboring\n",
    "  rights to this work.\n",
    "</p>"
   ]
  }
 ],
 "metadata": {
  "kernelspec": {
   "display_name": "Python 3",
   "language": "python",
   "name": "python3"
  },
  "language_info": {
   "codemirror_mode": {
    "name": "ipython",
    "version": 3
   },
   "file_extension": ".py",
   "mimetype": "text/x-python",
   "name": "python",
   "nbconvert_exporter": "python",
   "pygments_lexer": "ipython3",
   "version": "3.5.0"
  }
 },
 "nbformat": 4,
 "nbformat_minor": 0
}
