{
 "cells": [
  {
   "cell_type": "markdown",
   "metadata": {
    "nbsphinx": "hidden"
   },
   "source": [
    "# Spectral Estimation of Random Signals\n",
    "\n",
    "*This jupyter/Python notebook is part of a [collection of notebooks](../index.ipynb) in the masters module [Digital Signal Processing](http://www.int.uni-rostock.de/Digitale-Signalverarbeitung.48.0.html), Comunications Engineering, Universität Rostock. Please direct questions and suggestions to <mailto:Sascha.Spors@uni-rostock.de>.*"
   ]
  },
  {
   "cell_type": "markdown",
   "metadata": {},
   "source": [
    "## Introduction\n",
    "\n",
    "In the preceding sections various statistical measures have been introduced to characterize random processes and signals. For instance the probability density function (PDF) $p_x(\\theta)$, the mean value $\\mu_x$, the auto-correlation function (ACF) $\\varphi_{xx}[\\kappa]$ and its Fourier transformation, the power spectral density (PSD) $\\Phi_{xx}(\\mathrm{e}^{\\,\\mathrm{j}\\,\\Omega})$. For many random processes whose internal structure is known these measures can be given in closed-form. However, for practical random signals, measures of interest have to be estimated from a limited number of samples. These estimated quantities can e.g. be used to fit a parametric model of the random process or as parameters in algorithms."
   ]
  },
  {
   "cell_type": "markdown",
   "metadata": {},
   "source": [
    "### Problem Statement\n",
    "\n",
    "The estimation of the spectral properties of a random signal is of special interest for spectral analysis. The discrete Fourier transform (DFT) of a random signal is also random. It is not very well suited to get insights into the spectral structure of a random signal. We therefore aim at estimating the PSD $\\hat{\\Phi}_{xx}(\\mathrm{e}^{\\,\\mathrm{j}\\,\\Omega})$ of a weakly stationary and ergodic process from a limited number of samples. This is known as [*spectral (density) estimation*](https://en.wikipedia.org/wiki/Spectral_density_estimation). Many techniques have been developed for this purpose. They can be classified into\n",
    "\n",
    "1. non-parametric and\n",
    "2. parametric\n",
    "\n",
    "techniques. Non-parametric techniques estimate the PSD of the random signal without assuming any particular structure for the generating random process. In contrary, parametric techniques assume that the generating random process can be modeled by few parameters. Their aim is to estimate these parameters in order to characterize the random signal."
   ]
  },
  {
   "cell_type": "markdown",
   "metadata": {},
   "source": [
    "### Evaluation\n",
    "\n",
    "The estimate $\\hat{\\Phi}_{xx}(\\mathrm{e}^{\\,\\mathrm{j}\\,\\Omega})$ can be regarded as a random signal itself. The performance of an estimator is therefore evaluated in a statistical sense. For the PSD, the following metrics are of interest\n",
    "\n",
    "#### Bias\n",
    "\n",
    "The [bias of an estimator](https://en.wikipedia.org/wiki/Estimator#Bias) \n",
    "\n",
    "$$b_{\\hat{\\Phi}_{xx}}  \n",
    "= E\\{ \\hat{\\Phi}_{xx}(\\mathrm{e}^{\\,\\mathrm{j}\\,\\Omega}) - \\Phi_{xx}(\\mathrm{e}^{\\,\\mathrm{j}\\,\\Omega})\\}\n",
    "= E\\{ \\hat{\\Phi}_{xx}(\\mathrm{e}^{\\,\\mathrm{j}\\,\\Omega}) \\} - \\Phi_{xx}(\\mathrm{e}^{\\,\\mathrm{j}\\,\\Omega}) $$\n",
    "\n",
    "quantifies the difference between the estimated $\\hat{\\Phi}_{xx}(\\mathrm{e}^{\\,\\mathrm{j}\\,\\Omega})$ and the true $\\Phi_{xx}(\\mathrm{e}^{\\,\\mathrm{j}\\,\\Omega})$. An estimator is biased if $b_{\\hat{\\Phi}_{xx}} \\neq 0$ and bias-free if $b_{\\hat{\\Phi}_{xx}} = 0$.\n",
    "\n",
    "#### Variance\n",
    "\n",
    "The [variance of an estimator](https://en.wikipedia.org/wiki/Estimator#Variance)\n",
    "\n",
    "$$\\sigma^2_{\\hat{\\Phi}_{xx}} = E \\left\\{ \\left(\\hat{\\Phi}_{xx}(\\mathrm{e}^{\\,\\mathrm{j}\\,\\Omega}) - E\\{ \\hat{\\Phi}_{xx}(\\mathrm{e}^{\\,\\mathrm{j}\\,\\Omega})\\} \\right)^2 \\right\\}$$\n",
    "\n",
    "quantifies its quadratic deviation from its mean value $E\\{ \\hat{\\Phi}_{xx}(\\mathrm{e}^{\\,\\mathrm{j}\\,\\Omega})\\}$.\n",
    "\n",
    "#### Consistency\n",
    "\n",
    "A [consistent estimator](https://en.wikipedia.org/wiki/Estimator#Consistency) is an estimator for which the following conditions hold for a large number $N$ of samples:\n",
    "\n",
    "1. the estimator is unbiased\n",
    "    $$ \\lim_{N \\to \\infty} b_{\\hat{\\Phi}_{xx}} = 0 $$\n",
    "\n",
    "2. its variance converges towards zero\n",
    "    $$ \\lim_{N \\to \\infty} \\sigma^2_{\\hat{\\Phi}_{xx}} = 0 $$\n",
    "    \n",
    "3. it convergences in probability to the true $\\Phi_{xx}(\\mathrm{e}^{\\,\\mathrm{j}\\,\\Omega})$\n",
    "    $$ \\lim_{N \\to \\infty} \\Pr \\left\\{ | \\hat{\\Phi}_{xx}(\\mathrm{e}^{\\,\\mathrm{j}\\,\\Omega}) -  \\Phi_{xx}(\\mathrm{e}^{\\,\\mathrm{j}\\,\\Omega})| > \\alpha \\right\\} = 0$$\n",
    "    where $\\alpha > 0$ denotes a (small) constant.\n",
    "\n",
    "Consistency is a desired property of an estimator. It ensures that if the number of samples $N$ increases towards infinity, the resulting estimates converges towards the true PSD."
   ]
  },
  {
   "cell_type": "markdown",
   "metadata": {},
   "source": [
    "#### Example\n",
    "\n",
    "The following example computes and plots the magnitude spectra $|X_n[\\mu]|$ of an ensemble of random signals $x_n[k]$. In the plot, each color denotes one sample function."
   ]
  },
  {
   "cell_type": "code",
   "execution_count": 1,
   "metadata": {
    "collapsed": false
   },
   "outputs": [
    {
     "data": {
      "image/png": "[encoded data removed]",
      "text/plain": [
       "<matplotlib.figure.Figure at 0x106978dd8>"
      ]
     },
     "metadata": {},
     "output_type": "display_data"
    }
   ],
   "source": [
    "%matplotlib inline\n",
    "import numpy as np\n",
    "import matplotlib.pyplot as plt\n",
    "import scipy.signal as sig\n",
    "\n",
    "N = 256  # number of samples\n",
    "M = 5  # number of sample functions\n",
    "\n",
    "# generate random signal\n",
    "x = np.random.normal(size=(M, N))\n",
    "h = sig.firwin2(N, [0, .5, .52, .55, .57, 1], [0, 0, 1, 1, 0, 0])\n",
    "x = [np.convolve(xi, h, mode='same') for xi in x]\n",
    "\n",
    "# DFT of signal\n",
    "X = np.fft.rfft(x, axis=1)\n",
    "Om = np.linspace(0, np.pi, X.shape[1])\n",
    "\n",
    "# plot signal and its spectrum\n",
    "plt.figure(figsize=(10,4))\n",
    "plt.plot(Om, np.abs(X.T))\n",
    "plt.title('Magnitude spectrum')\n",
    "plt.xlabel(r'$\\Omega[\\mu]$')\n",
    "plt.ylabel(r'$|X[\\mu]|$')\n",
    "plt.axis([0, np.pi, 0, 30]);"
   ]
  },
  {
   "cell_type": "markdown",
   "metadata": {},
   "source": [
    "**Exercise**\n",
    "\n",
    "* What can you conclude on the spectral properties of the random process?\n",
    "* Increase the number `N` of samples. What changes? What does not change with respect to the evaluation criteria introduced above?\n",
    "* Is the DFT a consistent estimator for the spectral properties of a random process?"
   ]
  },
  {
   "cell_type": "markdown",
   "metadata": {
    "nbsphinx": "hidden"
   },
   "source": [
    "**Copyright**\n",
    "\n",
    "<p xmlns:dct=\"http://purl.org/dc/terms/\">\n",
    "  <a rel=\"license\"\n",
    "     href=\"http://creativecommons.org/publicdomain/zero/1.0/\">\n",
    "    <img src=\"http://i.creativecommons.org/p/zero/1.0/88x31.png\" style=\"border-style: none;\" alt=\"CC0\" />\n",
    "  </a>\n",
    "  <br />\n",
    "  To the extent possible under law,\n",
    "  <span rel=\"dct:publisher\" resource=\"[_:publisher]\">the person who associated CC0</span>\n",
    "  with this work has waived all copyright and related or neighboring\n",
    "  rights to this work.\n",
    "</p>"
   ]
  }
 ],
 "metadata": {
  "kernelspec": {
   "display_name": "Python 3",
   "language": "python",
   "name": "python3"
  },
  "language_info": {
   "codemirror_mode": {
    "name": "ipython",
    "version": 3
   },
   "file_extension": ".py",
   "mimetype": "text/x-python",
   "name": "python",
   "nbconvert_exporter": "python",
   "pygments_lexer": "ipython3",
   "version": "3.5.0"
  }
 },
 "nbformat": 4,
 "nbformat_minor": 0
}
