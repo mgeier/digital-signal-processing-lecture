{
 "cells": [
  {
   "cell_type": "markdown",
   "metadata": {},
   "source": [
    "# Digital Signal Processing\n",
    "\n",
    "This collection contains the lecture notes to the masters course [Digital Signal Processing](http://www.int.uni-rostock.de/Digitale-Signalverarbeitung.48.0.html), [Institute of Communications Engineering](http://www.int.uni-rostock.de/), Universität Rostock read by [Sascha Spors](http://www.int.uni-rostock.de/Staff-Info.23+B6JmNIYXNoPWUxOTliMTNjY2U2MDcyZjJiZTI0YTc4MmFkYTE5NjQzJnR4X2pwc3RhZmZfcGkxJTVCYmFja0lkJTVEPTMmdHhfanBzdGFmZl9waTElNUJzaG93VWlkJTVEPTExMQ__.0.html). The notes are provided as [Jupyter](https://jupyter.org/) notebooks using IPython 3 as Open Educational Resource. Feel free to [contact me](<mailto:Sascha.Spors@uni-rostock.de>) if you have questions or suggestions."
   ]
  },
  {
   "cell_type": "markdown",
   "metadata": {},
   "source": [
    "* [Reference Card Discrete Signals and Systems](reference_cards/RC_discrete_signals_and_systems.pdf)\n",
    "* [Reference Card Random Signals and LTI Systems](reference_cards/RC_random_signals_and_LTI_systems.pdf)"
   ]
  },
  {
   "cell_type": "markdown",
   "metadata": {
    "nbsphinx-toctree": {
     "maxdepth": 3,
     "numbered": true
    }
   },
   "source": [
    "## Table of Contents\n",
    "\n",
    "* [Spectral Analysis of Deterministic Signals](spectral_analysis_deterministic_signals/index.ipynb)\n",
    "* [Random Signals](random_signals/index.ipynb)\n",
    "* [Random Signals and LTI Systems](random_signals_LTI_systems/index.ipynb)\n",
    "* [Spectral Estimation of Random Signals](spectral_estimation_random_signals/index.ipynb)\n",
    "* [Quantization](quantization/index.ipynb)\n",
    "* [Realization of Non-Recursive Filters](nonrecursive_filters/index.ipynb)\n",
    "* [Realization of Recursive Filters](recursive_filters/index.ipynb)\n",
    "* [Design of Digital Filters](filter_design/index.ipynb)"
   ]
  },
  {
   "cell_type": "markdown",
   "metadata": {},
   "source": [
    "## Getting Started\n",
    "\n",
    "The jupyter notebooks are available\n",
    "\n",
    "* Online as [static web pages](http://nbviewer.ipython.org/github/spatialaudio/digital-signal-processing-lecture/blob/master/index.ipynb)\n",
    "* Online for [interactive use](http://mybinder.org/repo/spatialaudio/digital-signal-processing-lecture)\n",
    "* Local (offline) use on your computer\n",
    "\n",
    "For local use on your computer, e.g. for the exercises, you have to [download the notebooks from Github](http://github.com/spatialaudio/digital-signal-processing-lecture). Use [Git](http://git-scm.org/) to download the files and then start the Juyter notebook:\n",
    "\n",
    "    git clone https://github.com/spatialaudio/digital-signal-processing-lecture.git\n",
    "    cd digital-signal-processing-lecture\n",
    "    jupyter-notebook\n",
    "    \n",
    "This will open a new view in your web browser with a list of notebooks. Click on [index.ipynb](index.ipynb) (or any of the other available notebooks). Alternatively, you can also download individual notebook files (with the extension `.ipynb`) and open them in Jupyter. Note that some notebooks make use of additional files (audio files etc.) which you'll then also have to download manually."
   ]
  },
  {
   "cell_type": "markdown",
   "metadata": {},
   "source": [
    "## Literature\n",
    "\n",
    "The lecture notes base on the following literature:\n",
    "\n",
    "* Alan V. Oppenheim and Ronald W. Schafer, *Discrete-Time Signal Processing*, Pearson Prentice Hall, 2010.\n",
    "* John G. Proakis and Dimitris K. Manolakis, *Digital Signal Processing*, Pearson, 2006.\n",
    "* Petre Stoica and Randolph Moses, *Spectral Analysis of Signals*, Prentice Hall, 2005.\n",
    "* Udo Zölzer, *Digitale Audiosignalverarbeitung*, Teubner, 2005.\n",
    "* Peter Vary, Ulrich Heute and Wolfgang Hess, *Digitale Sprachsignalverarbeitung*, Teubner, 1998.\n",
    "* Bernd Girod, Rudolf Rabenstein, Alexander Stenger, *Einführung in die Systemtheorie*, B.G. Teubner Verlag, 2007."
   ]
  },
  {
   "cell_type": "markdown",
   "metadata": {},
   "source": [
    "## Contributors\n",
    "\n",
    "* Sascha Spors (Author)\n",
    "* Vera Erbes (Proofreading)\n",
    "* Matthias Geier (Technical advice)\n",
    "* Frank Schultz (Proofreading)"
   ]
  },
  {
   "cell_type": "markdown",
   "metadata": {
    "nbsphinx": "hidden"
   },
   "source": [
    "** Copyright **\n",
    "\n",
    "<p xmlns:dct=\"http://purl.org/dc/terms/\">\n",
    "  <a rel=\"license\"\n",
    "     href=\"http://creativecommons.org/publicdomain/zero/1.0/\">\n",
    "    <img src=\"http://i.creativecommons.org/p/zero/1.0/88x31.png\" style=\"border-style: none;\" alt=\"CC0\" />\n",
    "  </a>\n",
    "  <br />\n",
    "  To the extent possible under law,\n",
    "  <span rel=\"dct:publisher\" resource=\"[_:publisher]\">the person who associated CC0</span>\n",
    "  with this work has waived all copyright and related or neighboring\n",
    "  rights to this work.\n",
    "</p>"
   ]
  }
 ],
 "metadata": {
  "kernelspec": {
   "display_name": "Python 3",
   "language": "python",
   "name": "python3"
  },
  "language_info": {
   "codemirror_mode": {
    "name": "ipython",
    "version": 3
   },
   "file_extension": ".py",
   "mimetype": "text/x-python",
   "name": "python",
   "nbconvert_exporter": "python",
   "pygments_lexer": "ipython3",
   "version": "3.5.1"
  }
 },
 "nbformat": 4,
 "nbformat_minor": 0
}
