{
 "cells": [
  {
   "cell_type": "markdown",
   "metadata": {},
   "source": [
    "# Realization of Recursive Filters"
   ]
  },
  {
   "cell_type": "markdown",
   "metadata": {
    "nbsphinx-toctree": {}
   },
   "source": [
    "* [Introduction](introduction.ipynb)\n",
    "* [Direct Form Structures](direct_forms.ipynb)\n",
    "* [Cascaded Structures](cascaded_structures.ipynb)\n",
    "* [Quantization of Filter Coefficients](quantization_of_coefficients.ipynb)\n",
    "* [Quantization of Variables and Operations](quantization_of_variables.ipynb)"
   ]
  }
 ],
 "metadata": {
  "kernelspec": {
   "display_name": "Python 3",
   "language": "python",
   "name": "python3"
  },
  "language_info": {
   "codemirror_mode": {
    "name": "ipython",
    "version": 3
   },
   "file_extension": ".py",
   "mimetype": "text/x-python",
   "name": "python",
   "nbconvert_exporter": "python",
   "pygments_lexer": "ipython3",
   "version": "3.5.1+"
  }
 },
 "nbformat": 4,
 "nbformat_minor": 0
}
